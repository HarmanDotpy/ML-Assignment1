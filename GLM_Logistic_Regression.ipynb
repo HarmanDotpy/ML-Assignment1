{
 "cells": [
  {
   "cell_type": "code",
   "execution_count": 1,
   "metadata": {},
   "outputs": [
    {
     "name": "stdout",
     "output_type": "stream",
     "text": [
      "   age  restbps  chol  category\n",
      "0   26      109   243         0\n",
      "1   27      106   156         0\n",
      "2   28      107   225         0\n",
      "3   27      105   277         0\n",
      "4   30       96   221         0\n"
     ]
    }
   ],
   "source": [
    "import pandas as pd\n",
    "import numpy as np\n",
    "from math import sqrt\n",
    "from math import pi\n",
    "from math import exp\n",
    "import matplotlib.pyplot as plt\n",
    "\n",
    "df = pd.read_csv('health_data.csv')\n",
    "\n",
    "print(df.head())"
   ]
  },
  {
   "cell_type": "code",
   "execution_count": 2,
   "metadata": {},
   "outputs": [],
   "source": [
    "#randomize indces, take the first 80% of the indices and last 20 percent as test\n",
    "indices = np.random.permutation(df.shape[0])\n",
    "train_ind, test_ind = indices[:int(0.7*df.shape[0])], indices[int(0.7*df.shape[0]):]\n",
    "# print(len(train_ind), len(test_ind))\n",
    "\n",
    "#select the data corresponding to the train and test indices and save into 2 dataframes. Reset index afterwards\n",
    "train_df, test_df = df.loc[train_ind, :], df.loc[test_ind, :]\n",
    "train_df, test_df = train_df.reset_index(), test_df.reset_index()\n",
    "\n",
    "#print('Train data is : \\n', train_df.head(), ' \\nnumber of rows = {}'.format(train_df.shape[0]))\n",
    "#print('Test data is : \\n', test_df.head(), ' \\nnumber of rows = {}'.format(test_df.shape[0]))"
   ]
  },
  {
   "cell_type": "code",
   "execution_count": 3,
   "metadata": {},
   "outputs": [
    {
     "name": "stdout",
     "output_type": "stream",
     "text": [
      "        age   restbps      chol  ones\n",
      "0  0.207350  0.786750 -0.509219     1\n",
      "1  0.896635  1.283236 -0.140673     1\n",
      "2 -0.413008  0.400595 -0.435510     1\n",
      "3  1.654850  0.621255  2.512860     1\n",
      "4  0.965564  1.007411  0.946538     1\n",
      "0    0\n",
      "1    1\n",
      "2    1\n",
      "3    1\n",
      "4    1\n",
      "Name: category, dtype: int64\n",
      "        age   restbps      chol  ones\n",
      "0  0.930782  1.029056  0.920134     1\n",
      "1 -1.036560 -1.000204 -0.408571     1\n",
      "2 -1.240079 -1.213810  0.518026     1\n",
      "3 -1.375757 -1.053605  0.238299     1\n",
      "4  0.795104  0.922253  0.710339     1\n",
      "0    1\n",
      "1    0\n",
      "2    0\n",
      "3    0\n",
      "4    1\n",
      "Name: category, dtype: int64\n"
     ]
    }
   ],
   "source": [
    "x_train = train_df.iloc[:,1:4]\n",
    "y_train = train_df.iloc[:,4]\n",
    "\n",
    "x_test = test_df.iloc[:,1:4]\n",
    "y_test = test_df.iloc[:,4]\n",
    "\n",
    "x_train['ones'] = 1\n",
    "x_test['ones'] = 1\n",
    "\n",
    "for col in ['age', 'restbps', 'chol']:\n",
    "    x_train[col] = (x_train[col]-x_train[col].mean())/(x_train[col].std())\n",
    "    x_test[col] = (x_test[col]-x_test[col].mean())/(x_test[col].std())\n",
    "    \n",
    "print(x_train.head())\n",
    "print(y_train.head())\n",
    "print(x_test.head())\n",
    "print(y_test.head())"
   ]
  },
  {
   "cell_type": "code",
   "execution_count": 4,
   "metadata": {},
   "outputs": [
    {
     "name": "stdout",
     "output_type": "stream",
     "text": [
      "(489, 4)\n",
      "(211, 4)\n",
      "(489, 1)\n",
      "(211, 1)\n"
     ]
    }
   ],
   "source": [
    "X_train = x_train.to_numpy()\n",
    "X_test = x_test.to_numpy()\n",
    "print(X_train.shape)\n",
    "print(X_test.shape)\n",
    "\n",
    "#print(W.shape)\n",
    "Y_train = y_train.to_numpy()\n",
    "Y_train = np.reshape(Y_train,(Y_train.shape[0],1))\n",
    "Y_test = y_test.to_numpy()\n",
    "Y_test = np.reshape(Y_test,(Y_test.shape[0],1))\n",
    "print(Y_train.shape)\n",
    "print(Y_test.shape)"
   ]
  },
  {
   "cell_type": "code",
   "execution_count": 5,
   "metadata": {},
   "outputs": [],
   "source": [
    "def sigmoid(x):\n",
    "    return np.where(x >= 0, \n",
    "                    1 / (1 + np.exp(-x)), \n",
    "                    np.exp(x) / (1 + np.exp(x)))\n",
    "\n",
    "def predict(W,X,threshold):\n",
    "    Z = sigmoid(np.matmul(X,W))\n",
    "    Z[Z>threshold] = 1\n",
    "    Z[Z<=threshold] = 0\n",
    "    return Z"
   ]
  },
  {
   "cell_type": "code",
   "execution_count": 6,
   "metadata": {},
   "outputs": [],
   "source": [
    "num_iter = 1000\n",
    "rate = 0.001\n",
    "W_init = np.random.random((X_train.shape[1],1))"
   ]
  },
  {
   "cell_type": "code",
   "execution_count": 7,
   "metadata": {},
   "outputs": [],
   "source": [
    "def loss(W,X,Y):\n",
    "    eps = 1e-14\n",
    "    mean = sigmoid(np.matmul(X,W)) #assuming that the function will calc sigmoid elementwise\n",
    "    #mean shape = (489,1)\n",
    "    #y shape = (489,1)\n",
    "    logloss = -(np.mean(np.multiply(Y,np.log(mean + eps))) + np.mean(np.multiply(1-Y,np.log(1-mean + eps))))\n",
    "    return logloss\n",
    "\n",
    "def gradient(W,X,Y):\n",
    "    mean = sigmoid(np.matmul(X,W))\n",
    "    return np.matmul(X.T,(Y - mean))\n",
    "\n",
    "\n",
    "def sgd(W,X,Y,X_test,Y_test,rate,num_iter):\n",
    "    train_loss, test_loss =[], []\n",
    "    for _ in range(0, num_iter):\n",
    "        grad = gradient(W,X,Y)\n",
    "        W = W + rate*grad\n",
    "        train_loss.append(loss(W,X,Y))\n",
    "        test_loss.append(loss(W,X_test,Y_test))\n",
    "    return W, train_loss, test_loss\n",
    "\n"
   ]
  },
  {
   "cell_type": "code",
   "execution_count": 8,
   "metadata": {},
   "outputs": [
    {
     "name": "stdout",
     "output_type": "stream",
     "text": [
      "[[ 2.63424814]\n",
      " [ 1.02270053]\n",
      " [ 0.58488235]\n",
      " [-0.46491939]]\n"
     ]
    },
    {
     "data": {
      "image/png": "[encoded data removed]",
      "text/plain": [
       "<Figure size 432x288 with 1 Axes>"
      ]
     },
     "metadata": {
      "needs_background": "light"
     },
     "output_type": "display_data"
    }
   ],
   "source": [
    "W = np.copy(W_init)\n",
    "\n",
    "W, train_loss, test_loss = sgd(W,X_train,Y_train,X_test,Y_test,rate,num_iter)\n",
    "\n",
    "print(W)\n",
    "\n",
    "plt.plot(train_loss, 'r')\n",
    "plt.plot(test_loss, 'b')\n",
    "plt.show()"
   ]
  },
  {
   "cell_type": "code",
   "execution_count": 9,
   "metadata": {},
   "outputs": [],
   "source": [
    "def gradientL2(W,X,Y,lam):\n",
    "    mean = sigmoid(np.matmul(X,W))\n",
    "    return (np.matmul(X.T,(Y - mean)) - 2*lam*W)\n",
    "\n",
    "def lossL2(W,X,Y,lam):\n",
    "    mean = sigmoid(np.matmul(X,W))\n",
    "    logloss = -(np.mean(np.multiply(Y,np.log(mean))) + np.mean(np.multiply(1-Y,np.log(1-mean)))) + lam*np.mean(np.multiply(W,W))\n",
    "    return logloss\n",
    "\n",
    "def sgdL2(W,X,Y,X_test,Y_test,rate,num_iter,lam):\n",
    "    train_loss, test_loss =[], []\n",
    "    for _ in range(0, num_iter):\n",
    "        grad = gradientL2(W,X,Y,lam)\n",
    "        W = W + rate*grad\n",
    "        train_loss.append(lossL2(W,X,Y,lam))\n",
    "        test_loss.append(lossL2(W,X_test,Y_test,lam))\n",
    "    return W, train_loss, test_loss                                                                                                                                                                                                                "
   ]
  },
  {
   "cell_type": "code",
   "execution_count": 10,
   "metadata": {},
   "outputs": [
    {
     "name": "stdout",
     "output_type": "stream",
     "text": [
      "[[ 2.63414834]\n",
      " [ 1.02250537]\n",
      " [ 0.58483772]\n",
      " [-0.46486318]]\n"
     ]
    },
    {
     "data": {
      "image/png": "[encoded data removed]",
      "text/plain": [
       "<Figure size 432x288 with 1 Axes>"
      ]
     },
     "metadata": {
      "needs_background": "light"
     },
     "output_type": "display_data"
    }
   ],
   "source": [
    "W2 = np.random.random((X_train.shape[1],1))\n",
    "lam2 = 0.001\n",
    "W2, train_loss_L2, test_loss_L2 = sgdL2(W2,X_train,Y_train,X_test,Y_test,rate,num_iter,lam2)\n",
    "print(W2)\n",
    "plt.plot(train_loss_L2, 'r')\n",
    "plt.plot(test_loss_L2, 'b')\n",
    "plt.show()"
   ]
  },
  {
   "cell_type": "code",
   "execution_count": 11,
   "metadata": {},
   "outputs": [],
   "source": [
    "def loss_generic(W,X,Y,loss_fn,*args):\n",
    "    eps = 1e-14\n",
    "    lam1 = args[0]\n",
    "    lam2 = args[1]\n",
    "    mean = sigmoid(np.matmul(X,W))\n",
    "    if(loss_fn == 1):\n",
    "        logloss = -(np.mean(np.multiply(Y,np.log(mean))) + np.mean(np.multiply(1-Y,np.log(1-mean)))) + lam2*np.sum(np.multiply(W,W)) + lam1*np.sum(np.abs(W))\n",
    "        return logloss\n",
    "    elif(loss_fn == 2):\n",
    "        square_loss = square_loss = np.mean((np.matmul(X,W) - Y)**2) + lam1*np.sum(np.multiply(W,W)) + lam2*np.sum(np.abs(W))\n",
    "        return square_loss"
   ]
  },
  {
   "cell_type": "code",
   "execution_count": 12,
   "metadata": {},
   "outputs": [],
   "source": [
    "def grad_generic(W,X,Y,loss_fn,*args):\n",
    "    lam1 = args[0]\n",
    "    lam2 = args[1]\n",
    "    W_grad = np.zeros(W.shape)\n",
    "    mean = sigmoid(np.matmul(X,W))\n",
    "    for i in range(W_grad.shape[0]):\n",
    "        if(W[i] > 0):\n",
    "            W_grad = 1\n",
    "        else:\n",
    "            W_grad = -1\n",
    "\n",
    "    if(loss_fn == 1):\n",
    "        grad = np.matmul(X.T,(Y-mean)) - 2*lam2*W - lam1*W_grad\n",
    "        return grad\n",
    "    elif(loss_fn == 2):\n",
    "        grad = -2*np.matmul(X.T,(np.matmul(X,W) - Y))/X.shape[0] - 2*lam2*W - lam1*W\n",
    "        return grad"
   ]
  },
  {
   "cell_type": "code",
   "execution_count": 13,
   "metadata": {},
   "outputs": [],
   "source": [
    "def sgd_generic(W,X,Y,X_test,Y_test,rate,num_iter,loss_fn,*args):\n",
    "    lam1 = args[0]\n",
    "    lam2 = args[1]\n",
    "    train_loss, test_loss = [], []\n",
    "    for _ in range(num_iter):\n",
    "        grad = grad_generic(W,X,Y,loss_fn, lam1,lam2)\n",
    "        W = W + rate*grad\n",
    "        train_loss.append(loss_generic(W,X,Y,loss_fn,lam1,lam2))\n",
    "        test_loss.append(loss_generic(W,X_test,Y_test,loss_fn,lam1,lam2))\n",
    "        \n",
    "        plt.plot(train_loss, 'r')\n",
    "        plt.plot(test_loss, 'b')\n",
    "   \n",
    "    \n",
    "    return W, train_loss, test_loss\n",
    "    "
   ]
  },
  {
   "cell_type": "code",
   "execution_count": 14,
   "metadata": {},
   "outputs": [
    {
     "data": {
      "image/png": "[encoded data removed]",
      "text/plain": [
       "<Figure size 432x288 with 1 Axes>"
      ]
     },
     "metadata": {
      "needs_background": "light"
     },
     "output_type": "display_data"
    }
   ],
   "source": [
    "w = np.random.random((X_train.shape[1],1))\n",
    "\n",
    "lam1 = 0\n",
    "lam2 = 0\n",
    "\n",
    "w, train_loss_gen, test_loss_gen = sgd_generic(w,X_train,Y_train,X_test,Y_test,rate,num_iter,1,0.01,0)\n",
    "\n",
    "plt.plot(train_loss_gen, 'r')\n",
    "plt.plot(test_loss_gen,'b')\n",
    "\n",
    "plt.show()"
   ]
  },
  {
   "cell_type": "code",
   "execution_count": 15,
   "metadata": {},
   "outputs": [
    {
     "data": {
      "text/plain": [
       "[<matplotlib.lines.Line2D at 0x7fdfbdce4dc0>]"
      ]
     },
     "execution_count": 15,
     "metadata": {},
     "output_type": "execute_result"
    },
    {
     "data": {
      "image/png": "[encoded data removed]",
      "text/plain": [
       "<Figure size 432x288 with 1 Axes>"
      ]
     },
     "metadata": {
      "needs_background": "light"
     },
     "output_type": "display_data"
    }
   ],
   "source": [
    "def performance_metrics(y_pred_test, y_test):\n",
    "    '''gives the TPR, FPR, acc, precision, recall and F1 score by comparing the 2 input arrays'''\n",
    "    #for precision, recall, class 1 will be positive class (ie the person ahs a health condition) \n",
    "    #and 0 as negative class (no health condition)\n",
    "    TP = np.logical_and(y_pred_test==y_test,y_pred_test == 1).sum()\n",
    "    FP = np.logical_and(y_pred_test!=y_test,y_pred_test == 1).sum()\n",
    "    TN = np.logical_and(y_pred_test==y_test,y_pred_test == 0).sum()\n",
    "    FN = np.logical_and(y_pred_test!=y_test,y_pred_test == 0).sum()\n",
    "    ACC = (TP+TN)/(TP+TN+FP+FN)\n",
    "    P = (TP)/(TP+FP)\n",
    "    R = (TP)/(TP+FN)\n",
    "    F1 = 2*P*R/(P+R)\n",
    "    TPR = R\n",
    "    FPR = FP/(FP+TN)\n",
    "    \n",
    "    # return {'accuracy':ACC, 'precision':P, 'recall':R, 'F1':F1, 'TPR':TPR, 'FPR': FPR}\n",
    "    return [ACC, P, R, F1, TPR, FPR]\n",
    "\n",
    "intervals = 11\n",
    "\n",
    "threshold = np.linspace(0,0.1,intervals)\n",
    "losses = []\n",
    "\n",
    "for i in range(intervals):\n",
    "    W00 = np.random.random((X_train.shape[1],1))\n",
    "    W00, l1, l2 = sgd_generic(W00,X_train,Y_train,X_test,Y_test,rate,num_iter,1,0,0)\n",
    "    losses.append(l2[-1])\n",
    "\n",
    "plt.plot(threshold,losses,'b')"
   ]
  },
  {
   "cell_type": "code",
   "execution_count": null,
   "metadata": {},
   "outputs": [],
   "source": []
  },
  {
   "cell_type": "code",
   "execution_count": null,
   "metadata": {},
   "outputs": [],
   "source": []
  },
  {
   "cell_type": "code",
   "execution_count": null,
   "metadata": {},
   "outputs": [],
   "source": []
  }
 ],
 "metadata": {
  "kernelspec": {
   "display_name": "Python 3",
   "language": "python",
   "name": "python3"
  },
  "language_info": {
   "codemirror_mode": {
    "name": "ipython",
    "version": 3
   },
   "file_extension": ".py",
   "mimetype": "text/x-python",
   "name": "python",
   "nbconvert_exporter": "python",
   "pygments_lexer": "ipython3",
   "version": "3.8.3"
  }
 },
 "nbformat": 4,
 "nbformat_minor": 4
}
