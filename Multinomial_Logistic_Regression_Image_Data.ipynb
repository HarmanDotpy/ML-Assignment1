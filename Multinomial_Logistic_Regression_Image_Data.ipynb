{
 "cells": [
  {
   "cell_type": "code",
   "execution_count": 2,
   "metadata": {},
   "outputs": [],
   "source": [
    "import numpy as np\n",
    "import matplotlib.pyplot as plt\n",
    "from PIL import Image\n",
    "import os\n",
    "from matplotlib.pyplot import imshow\n",
    "import pandas as pd"
   ]
  },
  {
   "cell_type": "code",
   "execution_count": 3,
   "metadata": {},
   "outputs": [],
   "source": [
    "numcat = 6 #number of categories\n",
    "categories = ['AbdomenCT', 'BreastMRI', 'ChestCT', 'CXR', 'Hand', 'HeadCT']"
   ]
  },
  {
   "cell_type": "code",
   "execution_count": 53,
   "metadata": {},
   "outputs": [
    {
     "ename": "KeyboardInterrupt",
     "evalue": "",
     "output_type": "error",
     "traceback": [
      "\u001b[0;31m---------------------------------------------------------------------------\u001b[0m",
      "\u001b[0;31mKeyboardInterrupt\u001b[0m                         Traceback (most recent call last)",
      "\u001b[0;32m<ipython-input-53-5ce85918fb91>\u001b[0m in \u001b[0;36m<module>\u001b[0;34m\u001b[0m\n\u001b[1;32m      4\u001b[0m     \u001b[0mimagearray\u001b[0m \u001b[0;34m=\u001b[0m \u001b[0;34m[\u001b[0m\u001b[0;34m]\u001b[0m\u001b[0;34m\u001b[0m\u001b[0;34m\u001b[0m\u001b[0m\n\u001b[1;32m      5\u001b[0m     \u001b[0;32mfor\u001b[0m \u001b[0mimage_raw\u001b[0m \u001b[0;32min\u001b[0m \u001b[0mos\u001b[0m\u001b[0;34m.\u001b[0m\u001b[0mlistdir\u001b[0m\u001b[0;34m(\u001b[0m\u001b[0mdirectory\u001b[0m \u001b[0;34m+\u001b[0m \u001b[0mcategories\u001b[0m\u001b[0;34m[\u001b[0m\u001b[0mi\u001b[0m\u001b[0;34m]\u001b[0m\u001b[0;34m)\u001b[0m\u001b[0;34m:\u001b[0m\u001b[0;34m\u001b[0m\u001b[0;34m\u001b[0m\u001b[0m\n\u001b[0;32m----> 6\u001b[0;31m         \u001b[0mimage_np\u001b[0m \u001b[0;34m=\u001b[0m \u001b[0;34m(\u001b[0m\u001b[0mnp\u001b[0m\u001b[0;34m.\u001b[0m\u001b[0marray\u001b[0m\u001b[0;34m(\u001b[0m\u001b[0mImage\u001b[0m\u001b[0;34m.\u001b[0m\u001b[0mopen\u001b[0m\u001b[0;34m(\u001b[0m\u001b[0mos\u001b[0m\u001b[0;34m.\u001b[0m\u001b[0mpath\u001b[0m\u001b[0;34m.\u001b[0m\u001b[0mjoin\u001b[0m\u001b[0;34m(\u001b[0m\u001b[0mdirectory\u001b[0m \u001b[0;34m+\u001b[0m \u001b[0mcategories\u001b[0m\u001b[0;34m[\u001b[0m\u001b[0mi\u001b[0m\u001b[0;34m]\u001b[0m\u001b[0;34m,\u001b[0m \u001b[0mimage_raw\u001b[0m\u001b[0;34m)\u001b[0m\u001b[0;34m)\u001b[0m\u001b[0;34m)\u001b[0m\u001b[0;34m.\u001b[0m\u001b[0mflatten\u001b[0m\u001b[0;34m(\u001b[0m\u001b[0;34m)\u001b[0m\u001b[0;34m)\u001b[0m\u001b[0;34m\u001b[0m\u001b[0;34m\u001b[0m\u001b[0m\n\u001b[0m\u001b[1;32m      7\u001b[0m         \u001b[0mimage\u001b[0m \u001b[0;34m=\u001b[0m \u001b[0mnp\u001b[0m\u001b[0;34m.\u001b[0m\u001b[0mappend\u001b[0m\u001b[0;34m(\u001b[0m\u001b[0mimage_np\u001b[0m\u001b[0;34m,\u001b[0m \u001b[0mi\u001b[0m\u001b[0;34m)\u001b[0m\u001b[0;34m\u001b[0m\u001b[0;34m\u001b[0m\u001b[0m\n\u001b[1;32m      8\u001b[0m         \u001b[0mimagearray\u001b[0m\u001b[0;34m.\u001b[0m\u001b[0mappend\u001b[0m\u001b[0;34m(\u001b[0m\u001b[0mimage\u001b[0m\u001b[0;34m.\u001b[0m\u001b[0mastype\u001b[0m\u001b[0;34m(\u001b[0m\u001b[0;34m'uint8'\u001b[0m\u001b[0;34m)\u001b[0m\u001b[0;34m)\u001b[0m\u001b[0;34m\u001b[0m\u001b[0;34m\u001b[0m\u001b[0m\n",
      "\u001b[0;32m~/anaconda3/lib/python3.8/site-packages/PIL/Image.py\u001b[0m in \u001b[0;36mopen\u001b[0;34m(fp, mode)\u001b[0m\n\u001b[1;32m   2876\u001b[0m \u001b[0;34m\u001b[0m\u001b[0m\n\u001b[1;32m   2877\u001b[0m     \u001b[0;32mif\u001b[0m \u001b[0mfilename\u001b[0m\u001b[0;34m:\u001b[0m\u001b[0;34m\u001b[0m\u001b[0;34m\u001b[0m\u001b[0m\n\u001b[0;32m-> 2878\u001b[0;31m         \u001b[0mfp\u001b[0m \u001b[0;34m=\u001b[0m \u001b[0mbuiltins\u001b[0m\u001b[0;34m.\u001b[0m\u001b[0mopen\u001b[0m\u001b[0;34m(\u001b[0m\u001b[0mfilename\u001b[0m\u001b[0;34m,\u001b[0m \u001b[0;34m\"rb\"\u001b[0m\u001b[0;34m)\u001b[0m\u001b[0;34m\u001b[0m\u001b[0;34m\u001b[0m\u001b[0m\n\u001b[0m\u001b[1;32m   2879\u001b[0m         \u001b[0mexclusive_fp\u001b[0m \u001b[0;34m=\u001b[0m \u001b[0;32mTrue\u001b[0m\u001b[0;34m\u001b[0m\u001b[0;34m\u001b[0m\u001b[0m\n\u001b[1;32m   2880\u001b[0m \u001b[0;34m\u001b[0m\u001b[0m\n",
      "\u001b[0;31mKeyboardInterrupt\u001b[0m: "
     ]
    }
   ],
   "source": [
    "# directory = r'./Medical_MNIST/'\n",
    "# train, test = [], []\n",
    "# for i in range(numcat):\n",
    "#     imagearray = []\n",
    "#     for image_raw in os.listdir(directory + categories[i]):\n",
    "#         image_np = (np.array(Image.open(os.path.join(directory + categories[i], image_raw))).flatten())\n",
    "#         image = np.append(image_np, i)\n",
    "#         imagearray.append(image.astype('uint8'))\n",
    "        \n",
    "#     train += imagearray[0:int(0.8*len(imagearray))]\n",
    "#     test += imagearray[int(0.8*len(imagearray)):]\n",
    "# data = np.array(imagearray)\n",
    "# train = np.array(train)\n",
    "# test = np.array(test)"
   ]
  },
  {
   "cell_type": "code",
   "execution_count": 4,
   "metadata": {},
   "outputs": [],
   "source": [
    "# np.save('Medical_train.npy', train)\n",
    "# np.save('Medical_test.npy', test)"
   ]
  },
  {
   "cell_type": "code",
   "execution_count": 9,
   "metadata": {},
   "outputs": [],
   "source": [
    "train = np.load('Medical_train.npy')\n",
    "test = np.load('Medical_test.npy')\n",
    "#shuffle train and test sets\n"
   ]
  },
  {
   "cell_type": "code",
   "execution_count": 10,
   "metadata": {},
   "outputs": [],
   "source": [
    "np.random.shuffle(train)\n",
    "np.random.shuffle(test)\n",
    "#splitting into x and y - for both train and test sets\n",
    "x_train, y_train = train[:, :-1], train[:, -1]\n",
    "x_test, y_test = test[:, :-1], test[:, -1]\n",
    "\n",
    "cols = x_train.shape[1]\n",
    "\n",
    "for i in range(cols):\n",
    "    train_col = x_train[:,i]\n",
    "    train_mean = train_col.mean()\n",
    "    train_std = train_col.std()\n",
    "    x_train[:,i] = (x_train[:,i] - train_mean)/train_std\n",
    "    \n",
    "    test_col = x_test[:,i]\n",
    "    test_mean = test_col.mean()\n",
    "    test_std = test_col.std()\n",
    "    x_test[:,i] = (x_test[:,i] - test_mean)/test_std"
   ]
  },
  {
   "cell_type": "code",
   "execution_count": 11,
   "metadata": {},
   "outputs": [
    {
     "name": "stdout",
     "output_type": "stream",
     "text": [
      "(47163, 4097)\n",
      "(11791, 4097)\n",
      "(47163, 1)\n",
      "(11791, 1)\n"
     ]
    }
   ],
   "source": [
    "train_ones = np.ones((x_train.shape[0],1), dtype=x_train.dtype)\n",
    "X = np.append(x_train,train_ones,axis=1)\n",
    "print(X.shape) \n",
    "test_ones = np.ones((x_test.shape[0],1), dtype=x_test.dtype)\n",
    "X_test = np.append(x_test,test_ones,axis=1)\n",
    "print(X_test.shape)\n",
    "Y = np.reshape(y_train,(y_train.shape[0],1))\n",
    "print(Y.shape)\n",
    "Y_test = np.reshape(y_test,(y_test.shape[0],1))\n",
    "print(Y_test.shape)"
   ]
  },
  {
   "cell_type": "code",
   "execution_count": 12,
   "metadata": {},
   "outputs": [
    {
     "name": "stdout",
     "output_type": "stream",
     "text": [
      "[[0. 0. 1. 0. 0. 0.]\n",
      " [0. 0. 1. 0. 0. 0.]\n",
      " [0. 0. 0. 0. 0. 1.]\n",
      " ...\n",
      " [1. 0. 0. 0. 0. 0.]\n",
      " [0. 0. 0. 1. 0. 0.]\n",
      " [0. 1. 0. 0. 0. 0.]]\n",
      "[[2]\n",
      " [2]\n",
      " [5]\n",
      " ...\n",
      " [0]\n",
      " [3]\n",
      " [1]]\n"
     ]
    }
   ],
   "source": [
    "classes = 6\n",
    "\n",
    "Y_oh = np.zeros((Y.shape[0],classes))\n",
    "\n",
    "for i in range(Y.shape[0]):\n",
    "    Y_oh[i,Y[i]] = 1\n",
    "    \n",
    "Y_test_oh = np.zeros((Y_test.shape[0],classes))\n",
    "\n",
    "for i in range(Y_test.shape[0]):\n",
    "    Y_test_oh[i,Y_test[i]] = 1\n",
    "\n",
    "print(Y_oh)\n",
    "print(Y)"
   ]
  },
  {
   "cell_type": "code",
   "execution_count": 13,
   "metadata": {},
   "outputs": [],
   "source": [
    "#subtract the maximum of each array to stabilise exponential calculation using the identity softmax(x - c) = softmax(x)\n",
    "\n",
    "def softmax(Z):\n",
    "    prob = np.zeros(Z.shape)\n",
    "    \n",
    "    for i in range(Z.shape[0]):\n",
    "        Z_stable = Z[i] - max(Z[i])\n",
    "        exp = np.exp(Z_stable)\n",
    "        total = np.sum(exp)\n",
    "        prob[i] = exp/total\n",
    "    return prob"
   ]
  },
  {
   "cell_type": "code",
   "execution_count": 14,
   "metadata": {},
   "outputs": [],
   "source": [
    "# W = np.random.rand(4097,6)\n",
    "\n",
    "#add a small positive value to make sure log does not overflow\n",
    "\n",
    "def loss(W,X,Y):\n",
    "    Z = np.matmul(X,W)\n",
    "    # dim Z = (47163, 6)\n",
    "    p = softmax(Z)\n",
    "    \n",
    "    #loss = -y(i)logp(i) or y product with p\n",
    "    loss = 0\n",
    "    \n",
    "    epsilon = 1e-5\n",
    "    \n",
    "    for i in range(Y.shape[0]):\n",
    "        for j in range(Y.shape[1]):\n",
    "            if(Y[i,j] != 0):\n",
    "                loss = loss - np.log(p[i,j] + epsilon)\n",
    "    \n",
    "    return loss/Y.shape[0]"
   ]
  },
  {
   "cell_type": "code",
   "execution_count": 15,
   "metadata": {},
   "outputs": [],
   "source": [
    "def gradient(W,X,Y):\n",
    "    Z = np.matmul(X,W)\n",
    "    p = softmax(Z)\n",
    "    \n",
    "    #dim p/Y = (47163,6)\n",
    "    #dim X = (47163,4097)\n",
    "    grad = np.matmul(X.T,(p-Y))\n",
    "    \n",
    "    return grad"
   ]
  },
  {
   "cell_type": "code",
   "execution_count": 16,
   "metadata": {},
   "outputs": [],
   "source": [
    "def sgd(W,X,Y,X_test,Y_test,rate,num_iter):\n",
    "    train_loss, test_loss = [], []\n",
    "    for _ in range(0, num_iter):\n",
    "        grad = gradient(W,X,Y)\n",
    "        W = W - rate*grad\n",
    "        train_loss.append(loss(W,X,Y))\n",
    "        test_loss.append(loss(W,X_test,Y_test))\n",
    "    return W, train_loss, test_loss"
   ]
  },
  {
   "cell_type": "code",
   "execution_count": 19,
   "metadata": {},
   "outputs": [],
   "source": [
    "num_iter = 20\n",
    "rate = 0.01"
   ]
  },
  {
   "cell_type": "code",
   "execution_count": null,
   "metadata": {},
   "outputs": [],
   "source": []
  },
  {
   "cell_type": "code",
   "execution_count": null,
   "metadata": {},
   "outputs": [],
   "source": [
    "W = np.random.rand(4097,6)**0.01\n",
    "\n",
    "print(W)\n",
    "\n",
    "W, train_loss, test_loss = sgd(W,X,Y_oh,X_test,Y_test_oh,rate,num_iter)\n",
    "\n",
    "print(W)"
   ]
  },
  {
   "cell_type": "code",
   "execution_count": 12,
   "metadata": {
    "scrolled": true
   },
   "outputs": [
    {
     "data": {
      "image/png": "[encoded data removed]",
      "text/plain": [
       "<Figure size 432x288 with 1 Axes>"
      ]
     },
     "metadata": {
      "needs_background": "light"
     },
     "output_type": "display_data"
    }
   ],
   "source": [
    "plt.plot(train_loss, 'r')\n",
    "plt.plot(test_loss, 'b')\n",
    "plt.show()"
   ]
  },
  {
   "cell_type": "code",
   "execution_count": 22,
   "metadata": {},
   "outputs": [],
   "source": [
    "def lossE(W,X,Y,lam1, lam2):\n",
    "    square_loss = np.mean((np.matmul(X,W) - Y)**2) # + lam1*np.sum(np.multiply(W,W)) + lam2*np.sum(np.abs(W))\n",
    "    return square_loss\n",
    "\n",
    "def gradientE(W,X,Y,lam1, lam2):\n",
    "   # W_grad = np.zeros(W.shape)\n",
    "\n",
    "    Z = np.matmul(X,W)\n",
    "    p = softmax(Z)\n",
    "    \n",
    "    grad = -2*(X.T.dot(())) # - 2*lam2*W - lam1*W\n",
    "    return grad\n",
    "\n",
    "def sgdE(W,X,Y,X_test,Y_test,rate,num_iter,lam1,lam2):\n",
    "    train_loss, test_loss = [], []\n",
    "    for _ in range(0, num_iter):\n",
    "        grad = gradientE(W,X,Y,lam1,lam2)\n",
    "        W = W + rate*grad\n",
    "        train_loss.append(lossE(W,X,Y,lam1,lam2))\n",
    "        test_loss.append(lossE(W,X_test,Y_test,lam1,lam2))\n",
    "    return W, train_loss, test_loss"
   ]
  },
  {
   "cell_type": "code",
   "execution_count": 23,
   "metadata": {},
   "outputs": [
    {
     "name": "stdout",
     "output_type": "stream",
     "text": [
      "[[7.00223027e+116 7.00192084e+116 7.00234464e+116 7.00340681e+116\n",
      "  7.00344917e+116 7.00386810e+116]\n",
      " [6.90895343e+116 6.90864813e+116 6.90906628e+116 6.91011431e+116\n",
      "  6.91015610e+116 6.91056944e+116]\n",
      " [3.18495406e+113 3.18481332e+113 3.18500608e+113 3.18548921e+113\n",
      "  3.18550847e+113 3.18569902e+113]\n",
      " ...\n",
      " [6.90424976e+116 6.90394466e+116 6.90436253e+116 6.90540985e+116\n",
      "  6.90545161e+116 6.90586467e+116]\n",
      " [6.83002643e+116 6.82972461e+116 6.83013799e+116 6.83117404e+116\n",
      "  6.83121535e+116 6.83162398e+116]\n",
      " [4.48868227e+114 4.48848391e+114 4.48875559e+114 4.48943648e+114\n",
      "  4.48946363e+114 4.48973218e+114]]\n"
     ]
    },
    {
     "data": {
      "image/png": "[encoded data removed]",
      "text/plain": [
       "<Figure size 432x288 with 1 Axes>"
      ]
     },
     "metadata": {
      "needs_background": "light"
     },
     "output_type": "display_data"
    }
   ],
   "source": [
    "W_sq = np.random.rand(4097,6)**0.01\n",
    "\n",
    "lam1 = 1\n",
    "lam2 = 0.1\n",
    "\n",
    "W_sq, train_loss, test_loss = sgdE(W,X,Y_oh,X_test,Y_test_oh,rate,num_iter,lam1,lam2)\n",
    "\n",
    "print(W_sq)\n",
    "\n",
    "plt.plot(train_loss, 'r')\n",
    "plt.plot(test_loss, 'b')\n",
    "plt.show()"
   ]
  },
  {
   "cell_type": "code",
   "execution_count": null,
   "metadata": {},
   "outputs": [],
   "source": []
  }
 ],
 "metadata": {
  "kernelspec": {
   "display_name": "Python 3",
   "language": "python",
   "name": "python3"
  },
  "language_info": {
   "codemirror_mode": {
    "name": "ipython",
    "version": 3
   },
   "file_extension": ".py",
   "mimetype": "text/x-python",
   "name": "python",
   "nbconvert_exporter": "python",
   "pygments_lexer": "ipython3",
   "version": "3.8.3"
  }
 },
 "nbformat": 4,
 "nbformat_minor": 4
}
