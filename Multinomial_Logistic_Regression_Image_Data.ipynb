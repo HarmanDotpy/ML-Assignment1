{
 "cells": [
  {
   "cell_type": "code",
   "execution_count": 1,
   "metadata": {},
   "outputs": [],
   "source": [
    "import numpy as np\n",
    "import matplotlib.pyplot as plt\n",
    "from PIL import Image\n",
    "import os\n",
    "from matplotlib.pyplot import imshow\n",
    "import pandas as pd"
   ]
  },
  {
   "cell_type": "code",
   "execution_count": 2,
   "metadata": {},
   "outputs": [],
   "source": [
    "numcat = 6 #number of categories\n",
    "categories = ['AbdomenCT', 'BreastMRI', 'ChestCT', 'CXR', 'Hand', 'HeadCT']"
   ]
  },
  {
   "cell_type": "code",
   "execution_count": 3,
   "metadata": {},
   "outputs": [],
   "source": [
    "# directory = r'./Medical_MNIST/'\n",
    "# train, test = [], []\n",
    "# for i in range(numcat):\n",
    "#     imagearray = []\n",
    "#     for image_raw in os.listdir(directory + categories[i]):\n",
    "#         image_np = (np.array(Image.open(os.path.join(directory + categories[i], image_raw))).flatten())\n",
    "#         image = np.append(image_np, i)\n",
    "#         imagearray.append(image.astype('uint8'))\n",
    "        \n",
    "#     train += imagearray[0:int(0.8*len(imagearray))]\n",
    "#     test += imagearray[int(0.8*len(imagearray)):]\n",
    "# data = np.array(imagearray)\n",
    "# train = np.array(train)\n",
    "# test = np.array(test)"
   ]
  },
  {
   "cell_type": "code",
   "execution_count": 4,
   "metadata": {},
   "outputs": [],
   "source": [
    "# np.save('Medical_train.npy', train)\n",
    "# np.save('Medical_test.npy', test)"
   ]
  },
  {
   "cell_type": "code",
   "execution_count": 5,
   "metadata": {},
   "outputs": [],
   "source": [
    "train = np.load('Medical_train.npy')\n",
    "test = np.load('Medical_test.npy')\n",
    "#shuffle train and test sets\n",
    "np.random.shuffle(train)\n",
    "np.random.shuffle(test)\n",
    "#splitting into x and y - for both train and test sets\n",
    "x_train, y_train = train[:, :-1], train[:, -1]\n",
    "x_test, y_test = test[:, :-1], test[:, -1]\n",
    "\n",
    "cols = x_train.shape[1]\n",
    "\n",
    "for i in range(cols):\n",
    "    train_col = x_train[:,i]\n",
    "    train_mean = train_col.mean()\n",
    "    train_std = train_col.std()\n",
    "    x_train[:,i] = (x_train[:,i] - train_mean)/train_std\n",
    "    \n",
    "    test_col = x_test[:,i]\n",
    "    test_mean = test_col.mean()\n",
    "    test_std = test_col.std()\n",
    "    x_test[:,i] = (x_test[:,i] - test_mean)/test_std"
   ]
  },
  {
   "cell_type": "code",
   "execution_count": 6,
   "metadata": {},
   "outputs": [
    {
     "name": "stdout",
     "output_type": "stream",
     "text": [
      "(47163, 4097)\n",
      "(11791, 4097)\n",
      "(47163, 1)\n",
      "(11791, 1)\n"
     ]
    }
   ],
   "source": [
    "train_ones = np.ones((x_train.shape[0],1), dtype=x_train.dtype)\n",
    "X = np.append(x_train,train_ones,axis=1)\n",
    "print(X.shape) \n",
    "test_ones = np.ones((x_test.shape[0],1), dtype=x_test.dtype)\n",
    "X_test = np.append(x_test,test_ones,axis=1)\n",
    "print(X_test.shape)\n",
    "Y = np.reshape(y_train,(y_train.shape[0],1))\n",
    "print(Y.shape)\n",
    "Y_test = np.reshape(y_test,(y_test.shape[0],1))\n",
    "print(Y_test.shape)"
   ]
  },
  {
   "cell_type": "code",
   "execution_count": 7,
   "metadata": {},
   "outputs": [
    {
     "name": "stdout",
     "output_type": "stream",
     "text": [
      "[[0. 0. 0. 0. 0. 1.]\n",
      " [0. 0. 0. 1. 0. 0.]\n",
      " [0. 0. 1. 0. 0. 0.]\n",
      " ...\n",
      " [0. 0. 0. 0. 0. 1.]\n",
      " [0. 0. 0. 1. 0. 0.]\n",
      " [0. 0. 0. 0. 1. 0.]]\n",
      "[[5]\n",
      " [3]\n",
      " [2]\n",
      " ...\n",
      " [5]\n",
      " [3]\n",
      " [4]]\n"
     ]
    }
   ],
   "source": [
    "classes = 6\n",
    "\n",
    "Y_oh = np.zeros((Y.shape[0],classes))\n",
    "\n",
    "for i in range(Y.shape[0]):\n",
    "    Y_oh[i,Y[i]] = 1\n",
    "    \n",
    "Y_test_oh = np.zeros((Y_test.shape[0],classes))\n",
    "\n",
    "for i in range(Y_test.shape[0]):\n",
    "    Y_test_oh[i,Y_test[i]] = 1\n",
    "\n",
    "print(Y_oh)\n",
    "print(Y)"
   ]
  },
  {
   "cell_type": "code",
   "execution_count": 8,
   "metadata": {},
   "outputs": [],
   "source": [
    "#subtract the maximum of each array to stabilise exponential calculation using the identity softmax(x - c) = softmax(x)\n",
    "\n",
    "def softmax(Z):\n",
    "    prob = np.zeros(Z.shape)\n",
    "    \n",
    "    for i in range(Z.shape[0]):\n",
    "        Z_stable = Z[i] - max(Z[i])\n",
    "        exp = np.exp(Z_stable)\n",
    "        total = np.sum(exp)\n",
    "        prob[i] = exp/total\n",
    "    return prob"
   ]
  },
  {
   "cell_type": "code",
   "execution_count": 9,
   "metadata": {},
   "outputs": [],
   "source": [
    "# W = np.random.rand(4097,6)\n",
    "\n",
    "#add a small positive value to make sure log does not overflow\n",
    "\n",
    "def loss(W,X,Y):\n",
    "    Z = np.matmul(X,W)\n",
    "    # dim Z = (47163, 6)\n",
    "    p = softmax(Z)\n",
    "    \n",
    "    #loss = -y(i)logp(i) or y product with p\n",
    "    loss = 0\n",
    "    \n",
    "    epsilon = 1e-5\n",
    "    \n",
    "    for i in range(Y.shape[0]):\n",
    "        for j in range(Y.shape[1]):\n",
    "            if(Y[i,j] != 0):\n",
    "                loss = loss - np.log(p[i,j] + epsilon)\n",
    "    \n",
    "    return loss/Y.shape[0]"
   ]
  },
  {
   "cell_type": "code",
   "execution_count": 10,
   "metadata": {},
   "outputs": [],
   "source": [
    "def gradient(W,X,Y):\n",
    "    Z = np.matmul(X,W)\n",
    "    p = softmax(Z)\n",
    "    \n",
    "    #dim p/Y = (47163,6)\n",
    "    #dim X = (47163,4097)\n",
    "    grad = np.matmul(X.T,(p-Y))\n",
    "    \n",
    "    return grad"
   ]
  },
  {
   "cell_type": "code",
   "execution_count": 11,
   "metadata": {},
   "outputs": [],
   "source": [
    "def sgd(W,X,Y,X_test,Y_test,rate,num_iter):\n",
    "    train_loss, test_loss = [], []\n",
    "    for _ in range(0, num_iter):\n",
    "        grad = gradient(W,X,Y)\n",
    "        W = W - rate*grad\n",
    "        train_loss.append(loss(W,X,Y))\n",
    "        test_loss.append(loss(W,X_test,Y_test))\n",
    "    return W, train_loss, test_loss"
   ]
  },
  {
   "cell_type": "code",
   "execution_count": null,
   "metadata": {},
   "outputs": [
    {
     "name": "stdout",
     "output_type": "stream",
     "text": [
      "[[0.99803582 0.99347825 0.98661139 0.97868031 0.99348442 0.97895193]\n",
      " [0.98526238 0.98695858 0.99796069 0.98412961 0.99834054 0.98341651]\n",
      " [0.9929183  0.98292599 0.9964225  0.98932695 0.99172591 0.98938299]\n",
      " ...\n",
      " [0.99101232 0.99935637 0.99285432 0.99444429 0.98745146 0.98435138]\n",
      " [0.99768393 0.99713921 0.98915367 0.99893038 0.99839634 0.99490741]\n",
      " [0.96610135 0.99697462 0.99854001 0.99144684 0.99559279 0.99225876]]\n"
     ]
    }
   ],
   "source": [
    "num_iter = 20\n",
    "rate = 0.01\n",
    "W = np.random.rand(4097,6)**0.01\n",
    "\n",
    "print(W)\n",
    "\n",
    "W, train_loss, test_loss = sgd(W,X,Y_oh,X_test,Y_test_oh,rate,num_iter)\n",
    "\n",
    "print(W)"
   ]
  },
  {
   "cell_type": "code",
   "execution_count": null,
   "metadata": {},
   "outputs": [],
   "source": [
    "plt.plot(train_loss, 'r')\n",
    "plt.plot(test_loss, 'b')\n",
    "plt.show()"
   ]
  },
  {
   "cell_type": "code",
   "execution_count": null,
   "metadata": {},
   "outputs": [],
   "source": []
  }
 ],
 "metadata": {
  "kernelspec": {
   "display_name": "Python 3",
   "language": "python",
   "name": "python3"
  },
  "language_info": {
   "codemirror_mode": {
    "name": "ipython",
    "version": 3
   },
   "file_extension": ".py",
   "mimetype": "text/x-python",
   "name": "python",
   "nbconvert_exporter": "python",
   "pygments_lexer": "ipython3",
   "version": "3.7.6"
  }
 },
 "nbformat": 4,
 "nbformat_minor": 4
}
