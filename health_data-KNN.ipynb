{
 "cells": [
  {
   "cell_type": "code",
   "execution_count": 294,
   "metadata": {},
   "outputs": [],
   "source": [
    "import numpy as np\n",
    "import pandas as pd"
   ]
  },
  {
   "cell_type": "code",
   "execution_count": 295,
   "metadata": {},
   "outputs": [
    {
     "name": "stdout",
     "output_type": "stream",
     "text": [
      "   age  restbps  chol  category\n",
      "0   26      109   243         0\n",
      "1   27      106   156         0\n",
      "2   28      107   225         0\n",
      "3   27      105   277         0\n",
      "4   30       96   221         0\n",
      "Total Datapoints = 700\n"
     ]
    }
   ],
   "source": [
    "df = pd.read_csv('health_data.csv')\n",
    "print(df.head())\n"
   ]
  },
  {
   "cell_type": "code",
   "execution_count": 296,
   "metadata": {},
   "outputs": [],
   "source": [
    "# df_norm = normalize_data(df, ['category'])\n",
    "# df_norm"
   ]
  },
  {
   "cell_type": "code",
   "execution_count": 297,
   "metadata": {},
   "outputs": [],
   "source": [
    "class KNN():\n",
    "    def __init__(self, k, traindf, testdf):\n",
    "        self.k = k\n",
    "        self.traindf = self.normalize_data(traindf, ['category'])\n",
    "        self.testdf = self.normalize_data(testdf, ['category'])\n",
    "\n",
    "    \n",
    "    def classify(self):\n",
    "        df_result =  self.testdf.copy()\n",
    "        class_lab = np.zeros(self.testdf.shape[0])\n",
    "        for i in range(self.testdf.shape[0]):\n",
    "            class_lab[i] = self.get_class(self.testdf.iloc[i])\n",
    "        \n",
    "        df_result['classified_label'] = class_lab.tolist()\n",
    "        return df_result\n",
    "        \n",
    "    def get_class(self, datapoint):\n",
    "        dist_train = self.traindf.copy()\n",
    "        dist = np.zeros(self.traindf.shape[0])\n",
    "        for i in range(self.traindf.shape[0]):\n",
    "            dist[i] = self.get_dist(datapoint, self.traindf.iloc[i])\n",
    "        dist_train['dist'] = dist.tolist()\n",
    "        dist_train = dist_train.sort_values('dist', ascending = True)\n",
    "        k_nearest = dist_train.head(k)\n",
    "        numones = k_nearest['category'].sum()\n",
    "        if(numones>=k_nearest.shape[0]):\n",
    "            label = 1\n",
    "        else:\n",
    "            label = 0\n",
    "        return label   \n",
    "    \n",
    "    def normalize_data(self, df, no_change_column_list):\n",
    "        norm_df = (df - df.min())/(df.max() - df.min())\n",
    "        for col in no_change_column_list:\n",
    "            norm_df[col] = df[col]\n",
    "#         print('-----', norm_df)\n",
    "        return norm_df\n",
    "\n",
    "    def get_dist(self, x1, x2):\n",
    "        return np.linalg.norm((x1-x2)[:-1])\n",
    "        "
   ]
  },
  {
   "cell_type": "markdown",
   "metadata": {},
   "source": [
    "## Split data into train and test randomly"
   ]
  },
  {
   "cell_type": "code",
   "execution_count": 298,
   "metadata": {},
   "outputs": [
    {
     "name": "stdout",
     "output_type": "stream",
     "text": [
      "Train data is : \n",
      "    age  restbps  chol  category\n",
      "0   39      119   247         0\n",
      "1   38      136   232         0\n",
      "2   34      113   306         0\n",
      "3   51      135   268         1\n",
      "4   45      124   160         1  \n",
      "number of rows = 560\n",
      "Test data is : \n",
      "    age  restbps  chol  category\n",
      "0   34      115   264         0\n",
      "1   25      102   202         0\n",
      "2   42      116   224         0\n",
      "3   42      132   280         1\n",
      "4   26      109   239         0  \n",
      "number of rows = 140\n"
     ]
    }
   ],
   "source": [
    "#randomize indces, take the first 80% of the indeces and last 20 percent as test\n",
    "indices = np.random.permutation(df_h.shape[0])\n",
    "train_ind, test_ind = indices[:int(0.8*df_h.shape[0])], indices[int(0.8*df_h.shape[0]):]\n",
    "# print(len(train_ind), len(test_ind))\n",
    "\n",
    "#select the data corresponding to the train and test indices and save into 2 dataframes. Reset index afterwards\n",
    "train_df, test_df = df_h.loc[train_ind, :], df_h.loc[test_ind, :]\n",
    "train_df, test_df = train_df.reset_index(drop = True), test_df.reset_index(drop = True)\n",
    "# train_df.drop('index')\n",
    "\n",
    "print('Train data is : \\n', train_df.head(), ' \\nnumber of rows = {}'.format(train_df.shape[0]))\n",
    "print('Test data is : \\n', test_df.head(), ' \\nnumber of rows = {}'.format(test_df.shape[0]))\n"
   ]
  },
  {
   "cell_type": "code",
   "execution_count": 299,
   "metadata": {},
   "outputs": [],
   "source": [
    "# print((train_df.iloc[1] - train_df.iloc[2])[:-1])\n"
   ]
  },
  {
   "cell_type": "code",
   "execution_count": 300,
   "metadata": {},
   "outputs": [],
   "source": [
    "def classify(k, traindf, testdf):\n",
    "    knn = KNN(k, train_df, test_df)\n",
    "    classified_test = knn.classify()\n",
    "    return classified_test\n",
    "\n",
    "def find_accuracy(result):\n",
    "    numtest = result.shape[0]\n",
    "    sum = 0\n",
    "    for i in range(numtest):\n",
    "        if(result.loc[i, 'category'] != result.loc[i, 'classified_label']):\n",
    "            sum+=1\n",
    "    return (numtest - sum)/numtest\n",
    "# print(classified_test.head())"
   ]
  },
  {
   "cell_type": "code",
   "execution_count": 301,
   "metadata": {
    "scrolled": false
   },
   "outputs": [
    {
     "name": "stdout",
     "output_type": "stream",
     "text": [
      "k = 1, acc = 0.7928571428571428\n",
      "k = 2, acc = 0.8357142857142857\n",
      "k = 3, acc = 0.85\n",
      "k = 4, acc = 0.85\n",
      "k = 5, acc = 0.85\n",
      "k = 6, acc = 0.8571428571428571\n",
      "k = 7, acc = 0.8571428571428571\n",
      "k = 8, acc = 0.85\n",
      "k = 9, acc = 0.85\n",
      "k = 10, acc = 0.85\n",
      "k = 11, acc = 0.85\n",
      "k = 12, acc = 0.8428571428571429\n",
      "k = 13, acc = 0.8285714285714286\n",
      "k = 14, acc = 0.8285714285714286\n",
      "k = 15, acc = 0.8214285714285714\n",
      "k = 16, acc = 0.8214285714285714\n",
      "k = 17, acc = 0.8214285714285714\n",
      "k = 18, acc = 0.8142857142857143\n",
      "k = 19, acc = 0.8\n",
      "k = 20, acc = 0.8\n",
      "k = 21, acc = 0.8\n",
      "k = 22, acc = 0.8\n",
      "k = 23, acc = 0.8\n",
      "k = 24, acc = 0.8\n"
     ]
    }
   ],
   "source": [
    "for k in range(1, 25):\n",
    "    result = classify(k, train_df, test_df)\n",
    "    accuracy = find_accuracy(result)\n",
    "    print('k = {}, acc = {}'.format(k, accuracy))"
   ]
  },
  {
   "cell_type": "code",
   "execution_count": null,
   "metadata": {},
   "outputs": [],
   "source": []
  },
  {
   "cell_type": "code",
   "execution_count": null,
   "metadata": {},
   "outputs": [],
   "source": []
  },
  {
   "cell_type": "code",
   "execution_count": null,
   "metadata": {},
   "outputs": [],
   "source": []
  }
 ],
 "metadata": {
  "kernelspec": {
   "display_name": "Python 3",
   "language": "python",
   "name": "python3"
  },
  "language_info": {
   "codemirror_mode": {
    "name": "ipython",
    "version": 3
   },
   "file_extension": ".py",
   "mimetype": "text/x-python",
   "name": "python",
   "nbconvert_exporter": "python",
   "pygments_lexer": "ipython3",
   "version": "3.7.6"
  }
 },
 "nbformat": 4,
 "nbformat_minor": 4
}
