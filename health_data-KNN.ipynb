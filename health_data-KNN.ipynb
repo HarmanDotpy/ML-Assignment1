{
 "cells": [
  {
   "cell_type": "code",
   "execution_count": 1,
   "metadata": {},
   "outputs": [],
   "source": [
    "import numpy as np\n",
    "import pandas as pd"
   ]
  },
  {
   "cell_type": "code",
   "execution_count": 5,
   "metadata": {},
   "outputs": [
    {
     "name": "stdout",
     "output_type": "stream",
     "text": [
      "   age  restbps  chol  category\n",
      "0   26      109   243         0\n",
      "1   27      106   156         0\n",
      "2   28      107   225         0\n",
      "3   27      105   277         0\n",
      "4   30       96   221         0\n",
      "Total Datapoints = 700\n"
     ]
    }
   ],
   "source": [
    "df_h = pd.read_csv('health_data.csv')\n",
    "print(df_h.head())\n",
    "print('Total Datapoints = {}'.format(df_h.shape[0]))"
   ]
  },
  {
   "cell_type": "code",
   "execution_count": null,
   "metadata": {},
   "outputs": [],
   "source": [
    "class KNN():\n",
    "    \n",
    "    def \n",
    "    def get_class(x_point):\n",
    "        "
   ]
  },
  {
   "cell_type": "markdown",
   "metadata": {},
   "source": [
    "## Split data into train and test randomly"
   ]
  },
  {
   "cell_type": "code",
   "execution_count": 17,
   "metadata": {},
   "outputs": [
    {
     "name": "stdout",
     "output_type": "stream",
     "text": [
      "Train data is : \n",
      "    index  age  restbps  chol  category\n",
      "0    117   23      116   201         0\n",
      "1    491   55      144   308         1\n",
      "2    606   47      128   265         1\n",
      "3    563   64      156   344         1\n",
      "4    621   45      146   251         1  \n",
      "number of rows = 560\n",
      "Test data is : \n",
      "    index  age  restbps  chol  category\n",
      "0    237   34      124   205         0\n",
      "1    156   29      105   222         0\n",
      "2    498   59      161   285         1\n",
      "3    335   41      127   238         0\n",
      "4    359   51      109   242         0  \n",
      "number of rows = 140\n"
     ]
    }
   ],
   "source": [
    "#randomize indces, take the first 80% of the indeces and last 20 percent as test\n",
    "indices = np.random.permutation(df_h.shape[0])\n",
    "train_ind, test_ind = indices[:int(0.8*df_h.shape[0])], indices[int(0.8*df_h.shape[0]):]\n",
    "# print(len(train_ind), len(test_ind))\n",
    "\n",
    "#select the data corresponding to the train and test indices and save into 2 dataframes. Reset index afterwards\n",
    "train_df, test_df = df_h.loc[train_ind, :], df_h.loc[test_ind, :]\n",
    "train_df, test_df = train_df.reset_index(), test_df.reset_index()\n",
    "\n",
    "print('Train data is : \\n', train_df.head(), ' \\nnumber of rows = {}'.format(train_df.shape[0]))\n",
    "print('Test data is : \\n', test_df.head(), ' \\nnumber of rows = {}'.format(test_df.shape[0]))\n"
   ]
  },
  {
   "cell_type": "code",
   "execution_count": 18,
   "metadata": {},
   "outputs": [
    {
     "name": "stdout",
     "output_type": "stream",
     "text": [
      "LICENSE  README.md  health_data-KNN.ipynb  health_data.csv\r\n"
     ]
    }
   ],
   "source": []
  }
 ],
 "metadata": {
  "kernelspec": {
   "display_name": "Python 3",
   "language": "python",
   "name": "python3"
  },
  "language_info": {
   "codemirror_mode": {
    "name": "ipython",
    "version": 3
   },
   "file_extension": ".py",
   "mimetype": "text/x-python",
   "name": "python",
   "nbconvert_exporter": "python",
   "pygments_lexer": "ipython3",
   "version": "3.7.6"
  }
 },
 "nbformat": 4,
 "nbformat_minor": 4
}
