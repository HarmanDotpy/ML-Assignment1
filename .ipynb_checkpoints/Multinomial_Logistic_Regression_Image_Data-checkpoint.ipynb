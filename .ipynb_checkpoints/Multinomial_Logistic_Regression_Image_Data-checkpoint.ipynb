{
 "cells": [
  {
   "cell_type": "code",
   "execution_count": 1,
   "metadata": {},
   "outputs": [],
   "source": [
    "import numpy as np\n",
    "import matplotlib.pyplot as plt\n",
    "from PIL import Image\n",
    "import os\n",
    "from matplotlib.pyplot import imshow\n",
    "import pandas as pd\n",
    "import seaborn as sb\n",
    "import random\n",
    "random.seed(1)"
   ]
  },
  {
   "cell_type": "code",
   "execution_count": 2,
   "metadata": {},
   "outputs": [],
   "source": [
    "numcat = 6 #number of categories\n",
    "categories = ['AbdomenCT', 'BreastMRI', 'ChestCT', 'CXR', 'Hand', 'HeadCT']"
   ]
  },
  {
   "cell_type": "code",
   "execution_count": 3,
   "metadata": {},
   "outputs": [],
   "source": [
    "# directory = r'./Resized_MNIST/'\n",
    "# train, test = [], []\n",
    "# for i in range(numcat):\n",
    "  #  imagearray = []\n",
    "  #  for image_raw in os.listdir(directory + categories[i]):\n",
    "  #      image_np = (np.array(Image.open(os.path.join(directory + categories[i], image_raw))).flatten())\n",
    "  #      image = np.append(image_np, i)\n",
    "  #      imagearray.append(image.astype('uint8'))\n",
    "        \n",
    "  #  train += imagearray[0:int(0.8*len(imagearray))]\n",
    "  #  test += imagearray[int(0.8*len(imagearray)):]\n",
    "# data = np.array(imagearray)\n",
    "# train = np.array(train)\n",
    "# test = np.array(test)"
   ]
  },
  {
   "cell_type": "code",
   "execution_count": 4,
   "metadata": {},
   "outputs": [],
   "source": [
    "# np.save('Medical_train_resized.npy', train)\n",
    "# np.save('Medical_test_resized.npy', test)"
   ]
  },
  {
   "cell_type": "code",
   "execution_count": 5,
   "metadata": {},
   "outputs": [],
   "source": [
    "train = np.load('Medical_train_resized.npy')\n",
    "test = np.load('Medical_test_resized.npy')\n",
    "#shuffle train and test sets\n"
   ]
  },
  {
   "cell_type": "code",
   "execution_count": 6,
   "metadata": {},
   "outputs": [],
   "source": [
    "np.random.shuffle(train)\n",
    "np.random.shuffle(test)\n",
    "#splitting into x and y - for both train and test sets\n",
    "x_train, y_train = train[:, :-1], train[:, -1]\n",
    "x_test, y_test = test[:, :-1], test[:, -1]\n",
    "\n",
    "cols = x_train.shape[1]\n",
    "\n",
    "for i in range(cols):\n",
    "    train_col = x_train[:,i]\n",
    "    train_mean = train_col.mean()\n",
    "    train_std = train_col.std()\n",
    "    x_train[:,i] = (x_train[:,i] - train_mean)/train_std\n",
    "    \n",
    "    test_col = x_test[:,i]\n",
    "    test_mean = test_col.mean()\n",
    "    test_std = test_col.std()\n",
    "    x_test[:,i] = (x_test[:,i] - test_mean)/test_std"
   ]
  },
  {
   "cell_type": "code",
   "execution_count": 7,
   "metadata": {},
   "outputs": [
    {
     "name": "stdout",
     "output_type": "stream",
     "text": [
      "(47163, 1025)\n",
      "(11791, 1025)\n",
      "(47163, 1)\n",
      "(11791, 1)\n"
     ]
    }
   ],
   "source": [
    "train_ones = np.ones((x_train.shape[0],1), dtype=x_train.dtype)\n",
    "X = np.append(x_train,train_ones,axis=1)\n",
    "print(X.shape) \n",
    "test_ones = np.ones((x_test.shape[0],1), dtype=x_test.dtype)\n",
    "X_test = np.append(x_test,test_ones,axis=1)\n",
    "print(X_test.shape)\n",
    "Y = np.reshape(y_train,(y_train.shape[0],1))\n",
    "print(Y.shape)\n",
    "Y_test = np.reshape(y_test,(y_test.shape[0],1))\n",
    "print(Y_test.shape)"
   ]
  },
  {
   "cell_type": "markdown",
   "metadata": {},
   "source": [
    "## Conversion of output values into one-hot vectors"
   ]
  },
  {
   "cell_type": "code",
   "execution_count": 8,
   "metadata": {},
   "outputs": [
    {
     "name": "stdout",
     "output_type": "stream",
     "text": [
      "[[0. 0. 1. 0. 0. 0.]\n",
      " [0. 0. 1. 0. 0. 0.]\n",
      " [0. 1. 0. 0. 0. 0.]\n",
      " ...\n",
      " [0. 1. 0. 0. 0. 0.]\n",
      " [0. 0. 1. 0. 0. 0.]\n",
      " [0. 0. 1. 0. 0. 0.]]\n",
      "[[2]\n",
      " [2]\n",
      " [1]\n",
      " ...\n",
      " [1]\n",
      " [2]\n",
      " [2]]\n"
     ]
    }
   ],
   "source": [
    "classes = 6\n",
    "\n",
    "Y_oh = np.zeros((Y.shape[0],classes))\n",
    "\n",
    "for i in range(Y.shape[0]):\n",
    "    Y_oh[i,Y[i]] = 1\n",
    "    \n",
    "Y_test_oh = np.zeros((Y_test.shape[0],classes))\n",
    "\n",
    "for i in range(Y_test.shape[0]):\n",
    "    Y_test_oh[i,Y_test[i]] = 1\n",
    "\n",
    "print(Y_oh)\n",
    "print(Y)"
   ]
  },
  {
   "cell_type": "code",
   "execution_count": 9,
   "metadata": {},
   "outputs": [],
   "source": [
    "num_iter = 40\n",
    "rate = 0.01"
   ]
  },
  {
   "cell_type": "code",
   "execution_count": 10,
   "metadata": {},
   "outputs": [],
   "source": [
    "#subtract the maximum of each array to stabilise exponential calculation using the identity softmax(x - c) = softmax(x)\n",
    "\n",
    "def softmax(Z):\n",
    "    prob = np.zeros(Z.shape)\n",
    "    \n",
    "    for i in range(Z.shape[0]):\n",
    "        Z_stable = Z[i] - np.amax(Z[i])\n",
    "        exp = np.exp(Z_stable)\n",
    "        total = np.sum(exp)\n",
    "        prob[i] = exp/total\n",
    "    return prob"
   ]
  },
  {
   "cell_type": "markdown",
   "metadata": {},
   "source": [
    "## Cross Entropy Loss"
   ]
  },
  {
   "cell_type": "code",
   "execution_count": 25,
   "metadata": {},
   "outputs": [],
   "source": [
    "#add a small positive value to make sure log does not overflow\n",
    "\n",
    "def loss(W,X,Y):\n",
    "    Z = np.matmul(X,W)\n",
    "    p = softmax(Z)\n",
    "    loss = 0\n",
    "    \n",
    "    epsilon = 1e-5\n",
    "    \n",
    "    for i in range(Y.shape[0]):\n",
    "        for j in range(Y.shape[1]):\n",
    "            if(Y[i,j] > 0):\n",
    "                loss = loss - np.log(p[i,j] + epsilon)\n",
    "    \n",
    "    return loss/Y.shape[0]\n",
    "\n",
    "def gradient(W,X,Y):\n",
    "    Z = np.matmul(X,W)\n",
    "    p = softmax(Z)\n",
    "    \n",
    "    grad = np.matmul(X.T,(p-Y))/X.shape[0]\n",
    "    \n",
    "    return grad\n",
    "\n",
    "\n",
    "def sgd(W,X,Y,X_test,Y_test,rate,num_iter):\n",
    "    train_loss, test_loss = [], []\n",
    "    for _ in range(0, num_iter):\n",
    "        grad = gradient(W,X,Y)\n",
    "        W = W - rate*grad\n",
    "        train_loss.append(loss(W,X,Y))\n",
    "        test_loss.append(loss(W,X_test,Y_test))\n",
    "        if _ == num_iter - 20:\n",
    "            rate/=10\n",
    "    return W, train_loss, test_loss"
   ]
  },
  {
   "cell_type": "code",
   "execution_count": 26,
   "metadata": {},
   "outputs": [
    {
     "name": "stdout",
     "output_type": "stream",
     "text": [
      "[[0.99506414 0.98659503 0.98516358 0.99548346 0.98657699 0.99724939]\n",
      " [0.99038679 0.99033293 0.99706267 0.98624501 0.98083948 0.98920498]\n",
      " [0.99225001 0.98530426 0.99981234 0.9971606  0.9985157  0.9939057 ]\n",
      " ...\n",
      " [0.99671005 0.95326044 0.98677922 0.99667074 0.99916781 0.99610502]\n",
      " [0.9989849  0.99654467 0.99255538 0.98377018 0.99747853 0.99603552]\n",
      " [0.99887807 0.99984207 0.99093138 0.99653878 0.98537393 0.99879453]]\n",
      "[[0.9754811  1.0026408  0.95382255 1.38795636 0.80476578 0.821466  ]\n",
      " [0.97143322 1.06783741 0.96551816 1.42901141 0.6782843  0.82198735]\n",
      " [0.97327745 1.05049394 0.96939563 1.44800082 0.70332357 0.82245718]\n",
      " ...\n",
      " [0.98434026 0.95233097 0.96048467 1.33141479 0.84884383 0.85127877]\n",
      " [0.98764074 0.98370587 0.96476893 1.25604347 0.92524636 0.84796381]\n",
      " [1.03572115 0.97915685 1.02780107 0.96599151 0.97171836 0.98996984]]\n"
     ]
    }
   ],
   "source": [
    "W = np.random.rand(1025,6)**0.01\n",
    "\n",
    "print(W)\n",
    "\n",
    "W, train_loss, test_loss = sgd(W,X,Y_oh,X_test,Y_test_oh,rate,num_iter)\n",
    "\n",
    "print(W)"
   ]
  },
  {
   "cell_type": "code",
   "execution_count": 27,
   "metadata": {
    "scrolled": true
   },
   "outputs": [
    {
     "data": {
      "image/png": "[encoded data removed]",
      "text/plain": [
       "<Figure size 432x288 with 1 Axes>"
      ]
     },
     "metadata": {
      "needs_background": "light"
     },
     "output_type": "display_data"
    },
    {
     "name": "stdout",
     "output_type": "stream",
     "text": [
      "3.2515733718085174\n",
      "3.275989023285407\n"
     ]
    }
   ],
   "source": [
    "plt.plot(train_loss, 'r')\n",
    "plt.plot(test_loss, 'b')\n",
    "plt.show()\n",
    "print(train_loss[-1])\n",
    "print(test_loss[-1])"
   ]
  },
  {
   "cell_type": "markdown",
   "metadata": {},
   "source": [
    "## Cross Entropy Loss with L2 Regularisation"
   ]
  },
  {
   "cell_type": "code",
   "execution_count": 31,
   "metadata": {
    "scrolled": true
   },
   "outputs": [],
   "source": [
    "# W = np.random.rand(4097,6)\n",
    "\n",
    "#add a small positive value to make sure log does not overflow\n",
    "\n",
    "def loss_L2(W,X,Y,lam2):\n",
    "    Z = np.matmul(X,W)\n",
    "    # dim Z = (47163, 6)\n",
    "    p = softmax(Z)\n",
    "    \n",
    "    #loss = -y(i)logp(i) or y product with p\n",
    "    loss = 0\n",
    "    \n",
    "    epsilon = 1e-5\n",
    "    \n",
    "    for i in range(Y.shape[0]):\n",
    "        for j in range(Y.shape[1]):\n",
    "            if(Y[i,j] != 0):\n",
    "                loss = loss - np.log(p[i,j] + epsilon)\n",
    "    \n",
    "    return loss/X.shape[0] + lam2*np.sum(np.multiply(W,W))\n",
    "\n",
    "def gradient_L2(W,X,Y, lam2):\n",
    "   # W_grad = np.zeros(W.shape)\n",
    "    Z = np.matmul(X,W)\n",
    "    p = softmax(Z)\n",
    "    \n",
    "    #dim p/Y = (47163,6)\n",
    "    #dim X = (47163,4097)\n",
    "    grad = np.matmul(X.T,(p-Y))/X.shape[0] + 2*lam2*W\n",
    "    return grad\n",
    "\n",
    "def sgd_L2(W,X,Y,X_test,Y_test,rate,num_iter,lam2):\n",
    "    train_loss, test_loss = [], []\n",
    "    for _ in range(0, num_iter):\n",
    "        grad = gradient_L2(W,X,Y,lam2)\n",
    "        W = W - rate*grad\n",
    "        train_loss.append(loss_L2(W,X,Y,lam2))\n",
    "        test_loss.append(loss_L2(W,X_test,Y_test,lam2))\n",
    "        if _ == num_iter - 20:\n",
    "            rate = rate/10\n",
    "    return W, train_loss, test_loss"
   ]
  },
  {
   "cell_type": "code",
   "execution_count": 32,
   "metadata": {},
   "outputs": [
    {
     "name": "stdout",
     "output_type": "stream",
     "text": [
      "[[0.85715924 0.99527145 1.02716408 1.548133   0.74080918 0.79908878]\n",
      " [0.83154301 1.06624892 1.02277606 1.58418066 0.60568923 0.76389445]\n",
      " [0.85877092 1.02042128 1.02216543 1.62654059 0.61987401 0.80520838]\n",
      " ...\n",
      " [0.85833163 0.96872542 1.03014417 1.47978147 0.80024057 0.81095322]\n",
      " [0.86865506 0.97693147 1.02193733 1.4175215  0.85936611 0.79673292]\n",
      " [1.03275762 0.97008168 1.02345636 0.96379791 0.9815078  0.98991597]]\n"
     ]
    },
    {
     "data": {
      "image/png": "[encoded data removed]",
      "text/plain": [
       "<Figure size 432x288 with 1 Axes>"
      ]
     },
     "metadata": {
      "needs_background": "light"
     },
     "output_type": "display_data"
    }
   ],
   "source": [
    "W_sq = np.random.rand(1025,6)**0.01\n",
    "\n",
    "lam2 = 1e-15\n",
    "\n",
    "W_sq, train_loss_L2, test_loss_L2 = sgd_L2(W_sq,X,Y_oh,X_test,Y_test_oh,rate,num_iter,lam2)\n",
    "\n",
    "print(W_sq)\n",
    "\n",
    "plt.plot(train_loss_L2, 'r')\n",
    "plt.plot(test_loss_L2, 'b')\n",
    "plt.show()"
   ]
  },
  {
   "cell_type": "code",
   "execution_count": 33,
   "metadata": {},
   "outputs": [
    {
     "name": "stdout",
     "output_type": "stream",
     "text": [
      "3.767937262950728\n",
      "3.686650679078516\n"
     ]
    }
   ],
   "source": [
    "print(train_loss_L2[-1])\n",
    "print(test_loss_L2[-1])"
   ]
  },
  {
   "cell_type": "code",
   "execution_count": 58,
   "metadata": {},
   "outputs": [
    {
     "name": "stdout",
     "output_type": "stream",
     "text": [
      "[[3.]\n",
      " [5.]\n",
      " [1.]\n",
      " ...\n",
      " [4.]\n",
      " [4.]\n",
      " [3.]]\n",
      "[[3]\n",
      " [0]\n",
      " [1]\n",
      " ...\n",
      " [0]\n",
      " [4]\n",
      " [2]]\n"
     ]
    },
    {
     "data": {
      "image/png": "[encoded data removed]",
      "text/plain": [
       "<Figure size 432x288 with 1 Axes>"
      ]
     },
     "metadata": {
      "needs_background": "light"
     },
     "output_type": "display_data"
    },
    {
     "name": "stdout",
     "output_type": "stream",
     "text": [
      "0.6342125349843101\n"
     ]
    }
   ],
   "source": [
    "Y_pred = np.zeros((Y_test.shape[0],1))\n",
    "Y_test = Y_test.reshape((Y_test.shape[0],1))\n",
    "one_hot_pred = np.matmul(X_test,W_sq)\n",
    "\n",
    "correct = 0\n",
    "\n",
    "for i in range(Y_test.shape[0]):\n",
    "    maximum = -1\n",
    "    for j in range(6):\n",
    "        if(maximum < one_hot_pred[i,j]):\n",
    "            Y_pred[i,0] = j\n",
    "            maximum = one_hot_pred[i,j]\n",
    "    if(Y_pred[i,0] == Y_test[i,0]):\n",
    "        correct = correct + 1\n",
    "    \n",
    "print(Y_pred)\n",
    "print(Y_test)\n",
    "\n",
    "plt.plot(range(11791),Y_pred - Y_test)\n",
    "plt.show()\n",
    "\n",
    "print(correct/Y_test.shape[0])"
   ]
  },
  {
   "cell_type": "code",
   "execution_count": 35,
   "metadata": {},
   "outputs": [],
   "source": [
    "def performance_metrics_multiclass(y_pred_test, y_test, num_class, disp_conf = True):\n",
    "    '''gives the TPR, FPR, acc, precision, recall and F1 score for all classes by comparing the 2 input arrays'''\n",
    "    #First we calculate the confusion matrix of size num_class*num_class\n",
    "    #NOTE: Y axis of matrix will be predicted class and x axis wll be true class\n",
    "    conf_mat = np.zeros((num_class, num_class))\n",
    "    \n",
    "    for i in range(num_class):\n",
    "        for j in range(num_class):\n",
    "            conf_mat[i, j] = np.logical_and(y_pred_test == i, y_test ==j).sum()\n",
    "    # Calculating precision, recall, F1 Score for each class\n",
    "    colnames = ['class', 'Precision', 'Recall', 'F1']\n",
    "    df = pd.DataFrame(columns = colnames)\n",
    "    for i in range(num_class):\n",
    "        TP = conf_mat[i, i]\n",
    "        FP = conf_mat[i].sum() - conf_mat[i, i]\n",
    "        TN = conf_mat.sum() - conf_mat[i].sum() - conf_mat[:, i].sum() +  conf_mat[i, i]\n",
    "        FN = conf_mat[:, i].sum() - conf_mat[i, i]\n",
    "        P = round((TP)/(TP+FP), 5)\n",
    "        R = round((TP)/(TP+FN), 5)\n",
    "        F1 = round(2*P*R/(P+R), 5)\n",
    "        df = df.append({'class':categories[i], 'Precision':P, 'Recall':R, 'F1':F1 }, ignore_index = True)\n",
    "    macroF1 = round(df['F1'].mean(), 5)\n",
    "    accuracy = round((y_pred_test==y_test).mean(), 5)\n",
    "    \n",
    "    # NOTE : returning the transpose of the confusion matricx to get true labels on the y axis\n",
    "    conf_mat = conf_mat.T\n",
    "    # NORMALIZING the confusion matrix\n",
    "    conf_mat = np.around(conf_mat/(conf_mat.sum(axis = 1)), decimals = 3)\n",
    "    \n",
    "    \n",
    "    #PLot the matrix if disp_conf = True\n",
    "    if(disp_conf == True):\n",
    "        ax = sb.heatmap(conf_mat, vmin = 0, vmax = 1, cmap = sb.light_palette(\"seagreen\", as_cmap=True), xticklabels = categories, yticklabels = categories, annot = True, annot_kws={\"size\": 12})\n",
    "    #     ax.figure.axes[-1].yaxis.label.set_size(12)\n",
    "        plt.xlabel('Predicted Labels', fontsize = 14)\n",
    "        plt.ylabel('True Labels', fontsize = 14)\n",
    "        plt.tick_params(axis='both', labelsize=10)\n",
    "        return conf_mat, df, macroF1, accuracy, plt\n",
    "    \n",
    "    return conf_mat, df, macroF1, accuracy"
   ]
  },
  {
   "cell_type": "code",
   "execution_count": 56,
   "metadata": {},
   "outputs": [
    {
     "name": "stdout",
     "output_type": "stream",
     "text": [
      "(11791,)\n",
      "(11791,)\n"
     ]
    }
   ],
   "source": [
    "Y1 = Y_pred.reshape((-1,))\n",
    "Y2 = Y_test.reshape((-1,))\n",
    "\n",
    "print(Y1.shape)\n",
    "print(Y2.shape)"
   ]
  },
  {
   "cell_type": "code",
   "execution_count": 57,
   "metadata": {},
   "outputs": [
    {
     "name": "stderr",
     "output_type": "stream",
     "text": [
      "<ipython-input-35-71481a0c51d4>:18: RuntimeWarning: invalid value encountered in double_scalars\n",
      "  P = round((TP)/(TP+FP), 5)\n"
     ]
    },
    {
     "data": {
      "text/plain": [
       "(array([[0.024, 0.358, 0.   , 0.079, 0.282, 0.294],\n",
       "        [0.   , 0.949, 0.   , 0.   , 0.016, 0.03 ],\n",
       "        [0.   , 0.   , 0.   , 1.   , 0.   , 0.   ],\n",
       "        [0.   , 0.02 , 0.   , 0.938, 0.044, 0.001],\n",
       "        [0.   , 0.019, 0.   , 0.042, 0.928, 0.014],\n",
       "        [0.   , 0.   , 0.   , 0.   , 0.   , 1.   ]]),\n",
       "        class  Precision   Recall       F1\n",
       " 0  AbdomenCT    1.00000  0.02400  0.04688\n",
       " 1  BreastMRI    0.70539  0.94919  0.80933\n",
       " 2    ChestCT        NaN  0.00000      NaN\n",
       " 3        CXR    0.45567  0.93800  0.61337\n",
       " 4       Hand    0.73089  0.92750  0.81754\n",
       " 5     HeadCT    0.74645  0.99950  0.85464,\n",
       " 0.62835,\n",
       " 0.63421,\n",
       " <module 'matplotlib.pyplot' from '/root/anaconda3/lib/python3.8/site-packages/matplotlib/pyplot.py'>)"
      ]
     },
     "execution_count": 57,
     "metadata": {},
     "output_type": "execute_result"
    },
    {
     "data": {
      "image/png": "[encoded data removed]",
      "text/plain": [
       "<Figure size 432x288 with 2 Axes>"
      ]
     },
     "metadata": {
      "needs_background": "light"
     },
     "output_type": "display_data"
    }
   ],
   "source": [
    "performance_metrics_multiclass(Y1,Y2,6)"
   ]
  },
  {
   "cell_type": "code",
   "execution_count": null,
   "metadata": {},
   "outputs": [],
   "source": []
  }
 ],
 "metadata": {
  "kernelspec": {
   "display_name": "Python 3",
   "language": "python",
   "name": "python3"
  },
  "language_info": {
   "codemirror_mode": {
    "name": "ipython",
    "version": 3
   },
   "file_extension": ".py",
   "mimetype": "text/x-python",
   "name": "python",
   "nbconvert_exporter": "python",
   "pygments_lexer": "ipython3",
   "version": "3.8.3"
  }
 },
 "nbformat": 4,
 "nbformat_minor": 4
}
