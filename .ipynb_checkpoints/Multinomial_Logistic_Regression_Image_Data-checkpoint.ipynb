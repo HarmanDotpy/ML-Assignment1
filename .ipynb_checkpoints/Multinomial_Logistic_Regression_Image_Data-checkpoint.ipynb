{
 "cells": [
  {
   "cell_type": "code",
   "execution_count": 82,
   "metadata": {},
   "outputs": [],
   "source": [
    "import numpy as np\n",
    "import matplotlib.pyplot as plt\n",
    "from PIL import Image\n",
    "import os\n",
    "from matplotlib.pyplot import imshow\n",
    "import pandas as pd"
   ]
  },
  {
   "cell_type": "code",
   "execution_count": 83,
   "metadata": {},
   "outputs": [],
   "source": [
    "numcat = 6 #number of categories\n",
    "categories = ['AbdomenCT', 'BreastMRI', 'ChestCT', 'CXR', 'Hand', 'HeadCT']"
   ]
  },
  {
   "cell_type": "code",
   "execution_count": 84,
   "metadata": {},
   "outputs": [],
   "source": [
    "# directory = r'./Resized_MNIST/'\n",
    "# train, test = [], []\n",
    "# for i in range(numcat):\n",
    "  #  imagearray = []\n",
    "  #  for image_raw in os.listdir(directory + categories[i]):\n",
    "  #      image_np = (np.array(Image.open(os.path.join(directory + categories[i], image_raw))).flatten())\n",
    "  #      image = np.append(image_np, i)\n",
    "  #      imagearray.append(image.astype('uint8'))\n",
    "        \n",
    "  #  train += imagearray[0:int(0.8*len(imagearray))]\n",
    "  #  test += imagearray[int(0.8*len(imagearray)):]\n",
    "# data = np.array(imagearray)\n",
    "# train = np.array(train)\n",
    "# test = np.array(test)"
   ]
  },
  {
   "cell_type": "code",
   "execution_count": 85,
   "metadata": {},
   "outputs": [],
   "source": [
    "# np.save('Medical_train_resized.npy', train)\n",
    "# np.save('Medical_test_resized.npy', test)"
   ]
  },
  {
   "cell_type": "code",
   "execution_count": 86,
   "metadata": {},
   "outputs": [],
   "source": [
    "train = np.load('Medical_train_resized.npy')\n",
    "test = np.load('Medical_test_resized.npy')\n",
    "#shuffle train and test sets\n"
   ]
  },
  {
   "cell_type": "code",
   "execution_count": 87,
   "metadata": {},
   "outputs": [],
   "source": [
    "np.random.shuffle(train)\n",
    "np.random.shuffle(test)\n",
    "#splitting into x and y - for both train and test sets\n",
    "x_train, y_train = train[:, :-1], train[:, -1]\n",
    "x_test, y_test = test[:, :-1], test[:, -1]\n",
    "\n",
    "cols = x_train.shape[1]\n",
    "\n",
    "for i in range(cols):\n",
    "    train_col = x_train[:,i]\n",
    "    train_mean = train_col.mean()\n",
    "    train_std = train_col.std()\n",
    "    x_train[:,i] = (x_train[:,i] - train_mean)/train_std\n",
    "    \n",
    "    test_col = x_test[:,i]\n",
    "    test_mean = test_col.mean()\n",
    "    test_std = test_col.std()\n",
    "    x_test[:,i] = (x_test[:,i] - test_mean)/test_std"
   ]
  },
  {
   "cell_type": "code",
   "execution_count": 88,
   "metadata": {},
   "outputs": [
    {
     "name": "stdout",
     "output_type": "stream",
     "text": [
      "(47163, 1025)\n",
      "(11791, 1025)\n",
      "(47163, 1)\n",
      "(11791, 1)\n"
     ]
    }
   ],
   "source": [
    "train_ones = np.ones((x_train.shape[0],1), dtype=x_train.dtype)\n",
    "X = np.append(x_train,train_ones,axis=1)\n",
    "print(X.shape) \n",
    "test_ones = np.ones((x_test.shape[0],1), dtype=x_test.dtype)\n",
    "X_test = np.append(x_test,test_ones,axis=1)\n",
    "print(X_test.shape)\n",
    "Y = np.reshape(y_train,(y_train.shape[0],1))\n",
    "print(Y.shape)\n",
    "Y_test = np.reshape(y_test,(y_test.shape[0],1))\n",
    "print(Y_test.shape)"
   ]
  },
  {
   "cell_type": "markdown",
   "metadata": {},
   "source": [
    "## Conversion of output values into one-hot vectors"
   ]
  },
  {
   "cell_type": "code",
   "execution_count": 89,
   "metadata": {},
   "outputs": [
    {
     "name": "stdout",
     "output_type": "stream",
     "text": [
      "[[0. 0. 0. 0. 1. 0.]\n",
      " [0. 0. 0. 0. 0. 1.]\n",
      " [0. 0. 0. 0. 0. 1.]\n",
      " ...\n",
      " [0. 0. 0. 0. 0. 1.]\n",
      " [0. 1. 0. 0. 0. 0.]\n",
      " [0. 0. 0. 0. 0. 1.]]\n",
      "[[4]\n",
      " [5]\n",
      " [5]\n",
      " ...\n",
      " [5]\n",
      " [1]\n",
      " [5]]\n"
     ]
    }
   ],
   "source": [
    "classes = 6\n",
    "\n",
    "Y_oh = np.zeros((Y.shape[0],classes))\n",
    "\n",
    "for i in range(Y.shape[0]):\n",
    "    Y_oh[i,Y[i]] = 1\n",
    "    \n",
    "Y_test_oh = np.zeros((Y_test.shape[0],classes))\n",
    "\n",
    "for i in range(Y_test.shape[0]):\n",
    "    Y_test_oh[i,Y_test[i]] = 1\n",
    "\n",
    "print(Y_oh)\n",
    "print(Y)"
   ]
  },
  {
   "cell_type": "code",
   "execution_count": 90,
   "metadata": {},
   "outputs": [],
   "source": [
    "num_iter = 20\n",
    "rate = 0.01"
   ]
  },
  {
   "cell_type": "code",
   "execution_count": 91,
   "metadata": {},
   "outputs": [],
   "source": [
    "#subtract the maximum of each array to stabilise exponential calculation using the identity softmax(x - c) = softmax(x)\n",
    "\n",
    "def softmax(Z):\n",
    "    prob = np.zeros(Z.shape)\n",
    "    \n",
    "    for i in range(Z.shape[0]):\n",
    "        Z_stable = Z[i] - max(Z[i])\n",
    "        exp = np.exp(Z_stable)\n",
    "        total = np.sum(exp)\n",
    "        prob[i] = exp/total\n",
    "    return prob"
   ]
  },
  {
   "cell_type": "markdown",
   "metadata": {},
   "source": [
    "## Cross Entropy Loss"
   ]
  },
  {
   "cell_type": "code",
   "execution_count": 92,
   "metadata": {},
   "outputs": [],
   "source": [
    "#add a small positive value to make sure log does not overflow\n",
    "\n",
    "def loss(W,X,Y):\n",
    "    Z = np.matmul(X,W)\n",
    "    p = softmax(Z)\n",
    "    loss = 0\n",
    "    \n",
    "    epsilon = 1e-5\n",
    "    \n",
    "    for i in range(Y.shape[0]):\n",
    "        for j in range(Y.shape[1]):\n",
    "            if(Y[i,j] > 0):\n",
    "                loss = loss - np.log(p[i,j] + epsilon)\n",
    "    \n",
    "    return loss/Y.shape[0]\n",
    "\n",
    "def gradient(W,X,Y):\n",
    "    Z = np.matmul(X,W)\n",
    "    p = softmax(Z)\n",
    "    \n",
    "    grad = np.matmul(X.T,(p-Y))\n",
    "    \n",
    "    return grad\n",
    "\n",
    "\n",
    "def sgd(W,X,Y,X_test,Y_test,rate,num_iter):\n",
    "    train_loss, test_loss = [], []\n",
    "    for _ in range(0, num_iter):\n",
    "        grad = gradient(W,X,Y)\n",
    "        W = W - rate*grad\n",
    "        train_loss.append(loss(W,X,Y))\n",
    "        test_loss.append(loss(W,X_test,Y_test))\n",
    "    return W, train_loss, test_loss"
   ]
  },
  {
   "cell_type": "code",
   "execution_count": 93,
   "metadata": {},
   "outputs": [
    {
     "name": "stdout",
     "output_type": "stream",
     "text": [
      "[[0.98526707 0.99220222 0.99471853 0.97880377 0.99818117 0.99803915]\n",
      " [0.96868391 0.99768129 0.99261002 0.98889768 0.99266528 0.99456315]\n",
      " [0.98906546 0.9966016  0.9987381  0.98332096 0.99646123 0.99496547]\n",
      " ...\n",
      " [0.99877939 0.99846214 0.98251382 0.98124563 0.99757549 0.99315353]\n",
      " [0.96454312 0.98836667 0.98910261 0.99931599 0.99835557 0.99135422]\n",
      " [0.992098   0.97425443 0.99018736 0.99848237 0.9907745  0.99460425]]\n",
      "[[-17358.97279229   7679.39747121    329.73600745  21916.12197415\n",
      "   -8038.78602294  -4521.54942567]\n",
      " [-16954.48513555  10580.43726035    285.33275758  23923.01831145\n",
      "  -13440.93615363  -4387.43193886]\n",
      " [-17142.22078953   9386.80289202    424.50378608  24721.16759324\n",
      "  -13110.17610132  -4274.11822767]\n",
      " ...\n",
      " [-16651.10459764   5510.14693814    416.27964823  19995.40440289\n",
      "   -4778.14750728  -4486.62715435]\n",
      " [-15774.44869518   5909.75678093    750.44875036  16183.06125572\n",
      "   -2007.21453314  -5055.6725205 ]\n",
      " [  1427.46540067   -895.03826816   1539.34426535  -1253.1514061\n",
      "    -493.61988555   -319.05970532]]\n"
     ]
    }
   ],
   "source": [
    "W = np.random.rand(1025,6)**0.01\n",
    "\n",
    "print(W)\n",
    "\n",
    "W, train_loss, test_loss = sgd(W,X,Y_oh,X_test,Y_test_oh,rate,num_iter)\n",
    "\n",
    "print(W)"
   ]
  },
  {
   "cell_type": "code",
   "execution_count": 94,
   "metadata": {
    "scrolled": true
   },
   "outputs": [
    {
     "data": {
      "image/png": "[encoded data removed]",
      "text/plain": [
       "<Figure size 432x288 with 1 Axes>"
      ]
     },
     "metadata": {
      "needs_background": "light"
     },
     "output_type": "display_data"
    },
    {
     "name": "stdout",
     "output_type": "stream",
     "text": [
      "4.213319646690368\n",
      "4.298178611412674\n"
     ]
    }
   ],
   "source": [
    "plt.plot(train_loss, 'r')\n",
    "plt.plot(test_loss, 'b')\n",
    "plt.show()\n",
    "print(train_loss[-1])\n",
    "print(test_loss[-1])"
   ]
  },
  {
   "cell_type": "markdown",
   "metadata": {},
   "source": [
    "## Cross Entropy Loss with L2 Regularisation"
   ]
  },
  {
   "cell_type": "code",
   "execution_count": 95,
   "metadata": {
    "scrolled": true
   },
   "outputs": [],
   "source": [
    "# W = np.random.rand(4097,6)\n",
    "\n",
    "#add a small positive value to make sure log does not overflow\n",
    "\n",
    "def loss_L2(W,X,Y,lam2):\n",
    "    Z = np.matmul(X,W)\n",
    "    # dim Z = (47163, 6)\n",
    "    p = softmax(Z)\n",
    "    \n",
    "    #loss = -y(i)logp(i) or y product with p\n",
    "    loss = 0\n",
    "    \n",
    "    epsilon = 1e-5\n",
    "    \n",
    "    for i in range(Y.shape[0]):\n",
    "        for j in range(Y.shape[1]):\n",
    "            if(Y[i,j] != 0):\n",
    "                loss = loss - np.log(p[i,j] + epsilon)\n",
    "    \n",
    "    return loss/X.shape[0] + lam2*np.sum(np.multiply(W,W))\n",
    "\n",
    "def gradient_L2(W,X,Y, lam2):\n",
    "   # W_grad = np.zeros(W.shape)\n",
    "    Z = np.matmul(X,W)\n",
    "    p = softmax(Z)\n",
    "    \n",
    "    #dim p/Y = (47163,6)\n",
    "    #dim X = (47163,4097)\n",
    "    grad = np.matmul(X.T,(p-Y))/X.shape[0] - 2*lam2*W\n",
    "    return grad\n",
    "\n",
    "def sgd_L2(W,X,Y,X_test,Y_test,rate,num_iter,lam2):\n",
    "    train_loss, test_loss = [], []\n",
    "    for _ in range(0, num_iter):\n",
    "        grad = gradient_L2(W,X,Y,lam2)\n",
    "        W = W + rate*grad\n",
    "        train_loss.append(loss_L2(W,X,Y,lam2))\n",
    "        test_loss.append(loss_L2(W,X_test,Y_test,lam2))\n",
    "    return W, train_loss, test_loss"
   ]
  },
  {
   "cell_type": "code",
   "execution_count": 96,
   "metadata": {},
   "outputs": [
    {
     "name": "stdout",
     "output_type": "stream",
     "text": [
      "[[12.02189984 -6.17676352  0.98374841 -2.08729074  0.21503754  0.98575948]\n",
      " [11.99238496 -6.17404867  0.95284606 -2.29825987  0.41257719  0.96558362]\n",
      " [11.96808509 -6.07194981  0.97670004 -2.29574932  0.37963643  0.97377572]\n",
      " ...\n",
      " [11.59474408 -5.49895764  1.00577883 -1.82806342 -0.24779349  0.9302659 ]\n",
      " [11.42370511 -5.48736704  0.99211826 -1.84489233 -0.11133462  0.99683282]\n",
      " [ 1.13187882  0.96356418  0.95963685  0.96256455  0.96700427  0.95678811]]\n"
     ]
    },
    {
     "data": {
      "image/png": "[encoded data removed]",
      "text/plain": [
       "<Figure size 432x288 with 1 Axes>"
      ]
     },
     "metadata": {
      "needs_background": "light"
     },
     "output_type": "display_data"
    }
   ],
   "source": [
    "W_sq = np.random.rand(1025,6)**0.01\n",
    "\n",
    "lam2 = 1e-15\n",
    "\n",
    "W_sq, train_loss_L2, test_loss_L2 = sgd_L2(W_sq,X,Y_oh,X_test,Y_test_oh,rate,num_iter,lam2)\n",
    "\n",
    "print(W_sq)\n",
    "\n",
    "plt.plot(train_loss_L2, 'r')\n",
    "plt.plot(test_loss_L2, 'b')\n",
    "plt.show()"
   ]
  },
  {
   "cell_type": "code",
   "execution_count": 100,
   "metadata": {},
   "outputs": [
    {
     "name": "stdout",
     "output_type": "stream",
     "text": [
      "9.560891032748495\n",
      "9.566819868811073\n"
     ]
    }
   ],
   "source": [
    "print(train_loss_L2[-1])\n",
    "print(test_loss_L2[-1])"
   ]
  },
  {
   "cell_type": "code",
   "execution_count": null,
   "metadata": {},
   "outputs": [],
   "source": []
  }
 ],
 "metadata": {
  "kernelspec": {
   "display_name": "Python 3",
   "language": "python",
   "name": "python3"
  },
  "language_info": {
   "codemirror_mode": {
    "name": "ipython",
    "version": 3
   },
   "file_extension": ".py",
   "mimetype": "text/x-python",
   "name": "python",
   "nbconvert_exporter": "python",
   "pygments_lexer": "ipython3",
   "version": "3.8.3"
  }
 },
 "nbformat": 4,
 "nbformat_minor": 4
}
