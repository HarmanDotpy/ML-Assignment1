{
 "cells": [
  {
   "cell_type": "code",
   "execution_count": 368,
   "metadata": {},
   "outputs": [
    {
     "name": "stdout",
     "output_type": "stream",
     "text": [
      "   age  restbps  chol  category\n",
      "0   26      109   243         0\n",
      "1   27      106   156         0\n",
      "2   28      107   225         0\n",
      "3   27      105   277         0\n",
      "4   30       96   221         0\n"
     ]
    }
   ],
   "source": [
    "import pandas as pd\n",
    "import numpy as np\n",
    "from math import sqrt\n",
    "from math import pi\n",
    "from math import exp\n",
    "import matplotlib.pyplot as plt\n",
    "\n",
    "df = pd.read_csv('health_data.csv')\n",
    "\n",
    "print(df.head())"
   ]
  },
  {
   "cell_type": "code",
   "execution_count": 369,
   "metadata": {},
   "outputs": [],
   "source": [
    "#randomize indces, take the first 80% of the indices and last 20 percent as test\n",
    "indices = np.random.permutation(df.shape[0])\n",
    "train_ind, test_ind = indices[:int(0.7*df.shape[0])], indices[int(0.7*df.shape[0]):]\n",
    "# print(len(train_ind), len(test_ind))\n",
    "\n",
    "#select the data corresponding to the train and test indices and save into 2 dataframes. Reset index afterwards\n",
    "train_df, test_df = df.loc[train_ind, :], df.loc[test_ind, :]\n",
    "train_df, test_df = train_df.reset_index(), test_df.reset_index()\n",
    "\n",
    "#print('Train data is : \\n', train_df.head(), ' \\nnumber of rows = {}'.format(train_df.shape[0]))\n",
    "#print('Test data is : \\n', test_df.head(), ' \\nnumber of rows = {}'.format(test_df.shape[0]))"
   ]
  },
  {
   "cell_type": "code",
   "execution_count": 370,
   "metadata": {},
   "outputs": [
    {
     "name": "stdout",
     "output_type": "stream",
     "text": [
      "        age   restbps      chol  ones\n",
      "0 -0.914425 -0.979663 -0.572850     1\n",
      "1  0.505540  0.123261 -0.609164     1\n",
      "2  0.505540 -0.317908 -1.135713     1\n",
      "3 -1.590599 -1.255394  0.262365     1\n",
      "4 -1.455365 -0.869371 -1.044928     1\n",
      "0    0\n",
      "1    1\n",
      "2    0\n",
      "3    0\n",
      "4    0\n",
      "Name: category, dtype: int64\n",
      "        age   restbps      chol  ones\n",
      "0 -1.447292 -1.072283 -0.931129     1\n",
      "1  0.471540 -0.106542 -1.653439     1\n",
      "2 -1.518359 -1.340544 -1.382572     1\n",
      "3  1.253287  1.771288 -0.046300     1\n",
      "4 -0.168070  0.483633 -0.353281     1\n",
      "0    0\n",
      "1    0\n",
      "2    0\n",
      "3    1\n",
      "4    1\n",
      "Name: category, dtype: int64\n"
     ]
    }
   ],
   "source": [
    "x_train = train_df.iloc[:,1:4]\n",
    "y_train = train_df.iloc[:,4]\n",
    "\n",
    "x_test = test_df.iloc[:,1:4]\n",
    "y_test = test_df.iloc[:,4]\n",
    "\n",
    "x_train['ones'] = 1\n",
    "x_test['ones'] = 1\n",
    "\n",
    "for col in ['age', 'restbps', 'chol']:\n",
    "    x_train[col] = (x_train[col]-x_train[col].mean())/(x_train[col].std())\n",
    "    x_test[col] = (x_test[col]-x_test[col].mean())/(x_test[col].std())\n",
    "    \n",
    "print(x_train.head())\n",
    "print(y_train.head())\n",
    "print(x_test.head())\n",
    "print(y_test.head())"
   ]
  },
  {
   "cell_type": "code",
   "execution_count": 371,
   "metadata": {},
   "outputs": [
    {
     "name": "stdout",
     "output_type": "stream",
     "text": [
      "(489, 4)\n",
      "(211, 4)\n",
      "(489, 1)\n",
      "(211, 1)\n"
     ]
    }
   ],
   "source": [
    "X_train = x_train.to_numpy()\n",
    "X_test = x_test.to_numpy()\n",
    "print(X_train.shape)\n",
    "print(X_test.shape)\n",
    "\n",
    "#print(W.shape)\n",
    "Y_train = y_train.to_numpy()\n",
    "Y_train = np.reshape(Y_train,(Y_train.shape[0],1))\n",
    "Y_test = y_test.to_numpy()\n",
    "Y_test = np.reshape(Y_test,(Y_test.shape[0],1))\n",
    "print(Y_train.shape)\n",
    "print(Y_test.shape)"
   ]
  },
  {
   "cell_type": "code",
   "execution_count": 372,
   "metadata": {},
   "outputs": [],
   "source": [
    "def sigmoid(x):\n",
    "    return np.where(x >= 0, \n",
    "                    1 / (1 + np.exp(-x)), \n",
    "                    np.exp(x) / (1 + np.exp(x)))\n",
    "\n",
    "def predict(W,X,threshold):\n",
    "    Z = sigmoid(np.matmul(X,W))\n",
    "    Z[Z>threshold] = 1\n",
    "    Z[Z<=threshold] = 0\n",
    "    return Z"
   ]
  },
  {
   "cell_type": "code",
   "execution_count": 373,
   "metadata": {},
   "outputs": [],
   "source": [
    "num_iter = 1000\n",
    "rate = 0.01\n",
    "W_init = np.random.random((X_train.shape[1],1))"
   ]
  },
  {
   "cell_type": "markdown",
   "metadata": {},
   "source": [
    "# Cross Entropy Loss"
   ]
  },
  {
   "cell_type": "code",
   "execution_count": 374,
   "metadata": {},
   "outputs": [],
   "source": [
    "def loss(W,X,Y):\n",
    "    eps = 1e-14\n",
    "    mean = sigmoid(np.matmul(X,W)) #assuming that the function will calc sigmoid elementwise\n",
    "    #mean shape = (489,1)\n",
    "    #y shape = (489,1)\n",
    "    logloss = -(np.mean(np.multiply(Y,np.log(mean + eps))) + np.mean(np.multiply(1-Y,np.log(1-mean + eps))))\n",
    "    return logloss\n",
    "\n",
    "def gradient(W,X,Y):\n",
    "    mean = sigmoid(np.matmul(X,W))\n",
    "    return  X.T@((Y-mean)*mean*(1-mean))\n",
    "\n",
    "\n",
    "def sgd(W,X,Y,X_test,Y_test,rate,num_iter):\n",
    "    train_loss, test_loss =[], []\n",
    "    for _ in range(0, num_iter):\n",
    "        grad = gradient(W,X,Y)\n",
    "        W = W + rate*grad\n",
    "        train_loss.append(loss(W,X,Y))\n",
    "        test_loss.append(loss(W,X_test,Y_test))\n",
    "    return W, train_loss, test_loss\n",
    "\n"
   ]
  },
  {
   "cell_type": "code",
   "execution_count": 375,
   "metadata": {},
   "outputs": [
    {
     "name": "stdout",
     "output_type": "stream",
     "text": [
      "[[ 2.180251  ]\n",
      " [ 0.68652094]\n",
      " [ 0.33867316]\n",
      " [-0.50598777]]\n"
     ]
    },
    {
     "data": {
      "image/png": "[encoded data removed]",
      "text/plain": [
       "<Figure size 432x288 with 1 Axes>"
      ]
     },
     "metadata": {
      "needs_background": "light"
     },
     "output_type": "display_data"
    }
   ],
   "source": [
    "W = np.copy(W_init)\n",
    "W = W*0.001\n",
    "W, train_loss, test_loss = sgd(W,X_train,Y_train,X_test,Y_test,rate,num_iter)\n",
    "\n",
    "print(W)\n",
    "\n",
    "plt.plot(train_loss, 'r')\n",
    "plt.plot(test_loss, 'b')\n",
    "plt.show()"
   ]
  },
  {
   "cell_type": "markdown",
   "metadata": {},
   "source": [
    "# Cross Entropy Loss with L2 Regularisation"
   ]
  },
  {
   "cell_type": "code",
   "execution_count": 376,
   "metadata": {},
   "outputs": [],
   "source": [
    "def gradientL2(W,X,Y,lam):\n",
    "    mean = sigmoid(np.matmul(X,W))\n",
    "    return X.T@((Y-mean)*mean*(1-mean)) - 2*lam*W\n",
    "\n",
    "def lossL2(W,X,Y,lam):\n",
    "    eps = 1e-14\n",
    "    mean = sigmoid(np.matmul(X,W))\n",
    "    logloss = -(np.mean(np.multiply(Y,np.log(mean + eps))) + np.mean(np.multiply(1-Y,np.log(1-mean + eps)))) + lam*np.mean(np.multiply(W,W))\n",
    "    return logloss\n",
    "\n",
    "def sgdL2(W,X,Y,X_test,Y_test,rate,num_iter,lam):\n",
    "    train_loss, test_loss =[], []\n",
    "    for _ in range(0, num_iter):\n",
    "        grad = gradientL2(W,X,Y,lam)\n",
    "        W = W + rate*grad\n",
    "        train_loss.append(lossL2(W,X,Y,lam))\n",
    "        test_loss.append(lossL2(W,X_test,Y_test,lam))\n",
    "    return W, train_loss, test_loss                                                                                                                                                                                                                "
   ]
  },
  {
   "cell_type": "code",
   "execution_count": 377,
   "metadata": {},
   "outputs": [
    {
     "name": "stdout",
     "output_type": "stream",
     "text": [
      "[[ 2.17649522]\n",
      " [ 0.68711224]\n",
      " [ 0.3388249 ]\n",
      " [-0.50545746]]\n"
     ]
    },
    {
     "data": {
      "image/png": "[encoded data removed]",
      "text/plain": [
       "<Figure size 432x288 with 1 Axes>"
      ]
     },
     "metadata": {
      "needs_background": "light"
     },
     "output_type": "display_data"
    }
   ],
   "source": [
    "W2 = np.random.random((X_train.shape[1],1))\n",
    "lam2 = 0.001\n",
    "W2, train_loss_L2, test_loss_L2 = sgdL2(W2,X_train,Y_train,X_test,Y_test,rate,num_iter,lam2)\n",
    "print(W2)\n",
    "plt.plot(train_loss_L2, 'r')\n",
    "plt.plot(test_loss_L2, 'b')\n",
    "plt.show()"
   ]
  },
  {
   "cell_type": "code",
   "execution_count": 378,
   "metadata": {
    "scrolled": true
   },
   "outputs": [
    {
     "name": "stderr",
     "output_type": "stream",
     "text": [
      "<ipython-input-378-18b19ef44741>:10: RuntimeWarning: invalid value encountered in long_scalars\n",
      "  P = (TP)/(TP+FP)\n"
     ]
    },
    {
     "data": {
      "image/png": "[encoded data removed]",
      "text/plain": [
       "<Figure size 432x288 with 1 Axes>"
      ]
     },
     "metadata": {
      "needs_background": "light"
     },
     "output_type": "display_data"
    },
    {
     "data": {
      "image/png": "[encoded data removed]",
      "text/plain": [
       "<Figure size 432x288 with 1 Axes>"
      ]
     },
     "metadata": {
      "needs_background": "light"
     },
     "output_type": "display_data"
    },
    {
     "data": {
      "image/png": "[encoded data removed]",
      "text/plain": [
       "<Figure size 432x288 with 1 Axes>"
      ]
     },
     "metadata": {
      "needs_background": "light"
     },
     "output_type": "display_data"
    },
    {
     "name": "stdout",
     "output_type": "stream",
     "text": [
      "0.9476723040552828\n"
     ]
    }
   ],
   "source": [
    "def performance_metrics(y_pred_test, y_test):\n",
    "    '''gives the TPR, FPR, acc, precision, recall and F1 score by comparing the 2 input arrays'''\n",
    "    #for precision, recall, class 1 will be positive class (ie the person ahs a health condition) \n",
    "    #and 0 as negative class (no health condition)\n",
    "    TP = np.logical_and(y_pred_test==y_test,y_pred_test == 1).sum()\n",
    "    FP = np.logical_and(y_pred_test!=y_test,y_pred_test == 1).sum()\n",
    "    TN = np.logical_and(y_pred_test==y_test,y_pred_test == 0).sum()\n",
    "    FN = np.logical_and(y_pred_test!=y_test,y_pred_test == 0).sum()\n",
    "    ACC = (TP+TN)/(TP+TN+FP+FN)\n",
    "    P = (TP)/(TP+FP)\n",
    "    R = (TP)/(TP+FN)\n",
    "    F1 = 2*P*R/(P+R)\n",
    "    TPR = R\n",
    "    FPR = FP/(FP+TN)\n",
    "    \n",
    "    # return {'accuracy':ACC, 'precision':P, 'recall':R, 'F1':F1, 'TPR':TPR, 'FPR': FPR}\n",
    "    return [ACC, P, R, F1, TPR, FPR]\n",
    "\n",
    "intervals = 101\n",
    "\n",
    "threshold = np.linspace(0,1,intervals)\n",
    "Y_pred = []\n",
    "acc = []\n",
    "p = []\n",
    "r = []\n",
    "f1 = []\n",
    "tpr = []\n",
    "fpr = []\n",
    "\n",
    "W00 = np.random.random((X_train.shape[1],1))\n",
    "W00, l1, l2 = sgd(W00,X_train,Y_train,X_test,Y_test,rate,num_iter)\n",
    "    \n",
    "\n",
    "for i in range(intervals):\n",
    "    Y_pred.append(predict(W00,X_test,threshold[i]))\n",
    "\n",
    "for i in range(intervals):\n",
    "    pfm = performance_metrics(Y_pred[i],Y_test)\n",
    "    acc.append(pfm[0])\n",
    "    p.append(pfm[1])\n",
    "    r.append(pfm[2])\n",
    "    f1.append(pfm[3])\n",
    "    tpr.append(pfm[4])\n",
    "    fpr.append(pfm[5])\n",
    "\n",
    "plt.xlabel('Threshold')\n",
    "plt.ylabel('Accuracy')\n",
    "plt.scatter(threshold,acc)\n",
    "\n",
    "plt.show()\n",
    "\n",
    "plt.xlabel('Threshold')\n",
    "plt.ylabel('F1 Score')\n",
    "plt.scatter(threshold,f1)\n",
    "\n",
    "plt.show()\n",
    "\n",
    "plt.ylabel('TPR')\n",
    "plt.xlabel('FPR')\n",
    "plt.scatter(fpr,tpr)\n",
    "\n",
    "plt.show()\n",
    "\n",
    "fpr = np.sort(fpr)\n",
    "tpr = np.sort(tpr)\n",
    "auc = np.trapz(tpr,fpr)\n",
    "\n",
    "print(auc)"
   ]
  },
  {
   "cell_type": "code",
   "execution_count": 379,
   "metadata": {},
   "outputs": [
    {
     "data": {
      "image/png": "[encoded data removed]",
      "text/plain": [
       "<Figure size 432x288 with 1 Axes>"
      ]
     },
     "metadata": {
      "needs_background": "light"
     },
     "output_type": "display_data"
    }
   ],
   "source": [
    "\n",
    "intervals = 11\n",
    "\n",
    "\n",
    "Y_pred = []\n",
    "acc = []\n",
    "p = []\n",
    "r = []\n",
    "f1 = []\n",
    "tpr = []\n",
    "fpr = []\n",
    "for i in range(intervals):\n",
    "    W01 = np.random.random((X_train.shape[1],1))\n",
    "    W01, l1, l2 = sgdL2(W01,X_train,Y_train,X_test,Y_test,rate,num_iter,0.001*(rate+1))\n",
    "    Y_pred.append(predict(W01,X_test,threshold[i]))\n",
    "    pfm = performance_metrics(Y_pred[i],Y_test)\n",
    "    acc.append(pfm[0])\n",
    "    p.append(pfm[1])\n",
    "    r.append(pfm[2])\n",
    "    f1.append(pfm[3])\n",
    "    tpr.append(pfm[4])\n",
    "    fpr.append(pfm[5])\n",
    "plt.scatter(fpr,tpr,label='param= ' + str(rate/1000),s=15)\n",
    "plt.ylabel('TPR')\n",
    "plt.xlabel('FPR')\n",
    "plt.legend()\n",
    "plt.show()"
   ]
  },
  {
   "cell_type": "code",
   "execution_count": null,
   "metadata": {},
   "outputs": [],
   "source": []
  },
  {
   "cell_type": "code",
   "execution_count": null,
   "metadata": {},
   "outputs": [],
   "source": []
  }
 ],
 "metadata": {
  "kernelspec": {
   "display_name": "Python 3",
   "language": "python",
   "name": "python3"
  },
  "language_info": {
   "codemirror_mode": {
    "name": "ipython",
    "version": 3
   },
   "file_extension": ".py",
   "mimetype": "text/x-python",
   "name": "python",
   "nbconvert_exporter": "python",
   "pygments_lexer": "ipython3",
   "version": "3.8.3"
  }
 },
 "nbformat": 4,
 "nbformat_minor": 4
}
