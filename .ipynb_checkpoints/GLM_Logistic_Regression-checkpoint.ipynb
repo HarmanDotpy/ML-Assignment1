{
 "cells": [
  {
   "cell_type": "code",
   "execution_count": 33,
   "metadata": {},
   "outputs": [
    {
     "name": "stdout",
     "output_type": "stream",
     "text": [
      "   age  restbps  chol  category\n",
      "0   26      109   243         0\n",
      "1   27      106   156         0\n",
      "2   28      107   225         0\n",
      "3   27      105   277         0\n",
      "4   30       96   221         0\n"
     ]
    }
   ],
   "source": [
    "import pandas as pd\n",
    "import numpy as np\n",
    "from math import sqrt\n",
    "from math import pi\n",
    "from math import exp\n",
    "import matplotlib.pyplot as plt\n",
    "\n",
    "df = pd.read_csv('health_data.csv')\n",
    "\n",
    "print(df.head())"
   ]
  },
  {
   "cell_type": "code",
   "execution_count": 34,
   "metadata": {},
   "outputs": [],
   "source": [
    "#randomize indces, take the first 80% of the indices and last 20 percent as test\n",
    "indices = np.random.permutation(df.shape[0])\n",
    "train_ind, test_ind = indices[:int(0.7*df.shape[0])], indices[int(0.7*df.shape[0]):]\n",
    "# print(len(train_ind), len(test_ind))\n",
    "\n",
    "#select the data corresponding to the train and test indices and save into 2 dataframes. Reset index afterwards\n",
    "train_df, test_df = df.loc[train_ind, :], df.loc[test_ind, :]\n",
    "train_df, test_df = train_df.reset_index(), test_df.reset_index()\n",
    "\n",
    "#print('Train data is : \\n', train_df.head(), ' \\nnumber of rows = {}'.format(train_df.shape[0]))\n",
    "#print('Test data is : \\n', test_df.head(), ' \\nnumber of rows = {}'.format(test_df.shape[0]))"
   ]
  },
  {
   "cell_type": "code",
   "execution_count": 36,
   "metadata": {},
   "outputs": [
    {
     "name": "stdout",
     "output_type": "stream",
     "text": [
      "   age  restbps  chol  ones\n",
      "0   67      136   301     1\n",
      "1   36      134   223     1\n",
      "2   33      114   216     1\n",
      "3   47      138   271     1\n",
      "4   44      119   299     1\n",
      "0    1\n",
      "1    1\n",
      "2    0\n",
      "3    1\n",
      "4    0\n",
      "Name: category, dtype: int64\n",
      "   age  restbps  chol  ones\n",
      "0   33      110   220     1\n",
      "1   54      135   254     1\n",
      "2   55      149   249     1\n",
      "3   25      105   242     1\n",
      "4   30       96   221     1\n",
      "0    0\n",
      "1    1\n",
      "2    1\n",
      "3    0\n",
      "4    0\n",
      "Name: category, dtype: int64\n"
     ]
    }
   ],
   "source": [
    "x_train = train_df.iloc[:,1:4]\n",
    "y_train = train_df.iloc[:,4]\n",
    "\n",
    "x_test = test_df.iloc[:,1:4]\n",
    "y_test = test_df.iloc[:,4]\n",
    "\n",
    "x_train['ones'] = 1\n",
    "x_test['ones'] = 1\n",
    "\n",
    "print(x_train.head())\n",
    "print(y_train.head())\n",
    "print(x_test.head())\n",
    "print(y_test.head())\n",
    "\n",
    "for col in ['age', 'restbps', 'chol']:\n",
    "    x_train[col] = (x_train[col]-x_train[col].mean())/(x_train[col].std())\n",
    "    x_test[col] = (x_test[col]-x_test[col].mean())/(x_test[col].std())"
   ]
  },
  {
   "cell_type": "code",
   "execution_count": 91,
   "metadata": {},
   "outputs": [
    {
     "name": "stdout",
     "output_type": "stream",
     "text": [
      "(489, 4)\n",
      "(211, 4)\n",
      "(4, 1)\n",
      "(489, 1)\n",
      "(211, 1)\n"
     ]
    }
   ],
   "source": [
    "X_train = x_train.to_numpy()\n",
    "X_test = x_test.to_numpy()\n",
    "print(X_train.shape)\n",
    "print(X_test.shape)\n",
    "W = np.random.random((X_train.shape[1],1))\n",
    "print(W.shape)\n",
    "Y_train = y_train.to_numpy()\n",
    "Y_train = np.reshape(Y_train,(Y_train.shape[0],1))\n",
    "Y_test = y_test.to_numpy()\n",
    "Y_test = np.reshape(Y_test,(Y_test.shape[0],1))\n",
    "print(Y_train.shape)\n",
    "print(Y_test.shape)"
   ]
  },
  {
   "cell_type": "code",
   "execution_count": 92,
   "metadata": {},
   "outputs": [],
   "source": [
    "def sigmoid(x):\n",
    "    return 1/(1 + np.exp(-x))\n",
    "\n",
    "def loss(W,X,Y):\n",
    "    mean = sigmoid(np.matmul(X,W)) #assuming that the function will calc sigmoid elementwise\n",
    "    #mean shape = (489,1)\n",
    "    #y shape = (489,1)\n",
    "    logloss = -(np.sum(np.multiply(Y,np.log(mean))) + np.sum(np.multiply(1-Y,np.log(1-mean))))\n",
    "    \n",
    "    #for i in range(Y.shape[0]):\n",
    "        #logloss = logloss - Y[i]*np.log(mean[i]) - (1-Y[i])*np.log(1-mean[i])\n",
    "    return logloss"
   ]
  },
  {
   "cell_type": "code",
   "execution_count": 93,
   "metadata": {},
   "outputs": [
    {
     "name": "stdout",
     "output_type": "stream",
     "text": [
      "[[0.69121792]\n",
      " [0.40924892]\n",
      " [0.39611189]\n",
      " [0.29417546]]\n",
      "[[ 2.05791118]\n",
      " [ 1.23562975]\n",
      " [ 0.53679432]\n",
      " [-0.69531877]]\n"
     ]
    }
   ],
   "source": [
    "def gradient(W,X,Y):\n",
    "    mean = sigmoid(np.matmul(X,W))\n",
    "    return np.matmul(X.T,(Y - mean))\n",
    "\n",
    "def sgd(W,X,Y,X_test,Y_test,rate,num_iter):\n",
    "    train_loss, test_loss =[], []\n",
    "    for _ in range(0, num_iter):\n",
    "        grad = gradient(W,X,Y)\n",
    "        W = W + rate*grad\n",
    "        train_loss.append(loss(W,X,Y))\n",
    "        test_loss.append(loss(W,X_test,Y_test))\n",
    "    return W, train_loss, test_loss\n",
    "\n",
    "num_iter = 200\n",
    "rate = 0.001\n",
    "\n",
    "print(W)\n",
    "\n",
    "W, train_loss, test_loss = sgd(W,X_train,Y_train,X_test,Y_test,rate,num_iter)\n",
    "\n",
    "print(W)"
   ]
  },
  {
   "cell_type": "code",
   "execution_count": 94,
   "metadata": {
    "scrolled": true
   },
   "outputs": [
    {
     "data": {
      "image/png": "[encoded data removed]",
      "text/plain": [
       "<Figure size 432x288 with 1 Axes>"
      ]
     },
     "metadata": {
      "needs_background": "light"
     },
     "output_type": "display_data"
    }
   ],
   "source": [
    "plt.plot(train_loss, 'r')\n",
    "plt.plot(test_loss, 'b')\n",
    "plt.show()"
   ]
  },
  {
   "cell_type": "code",
   "execution_count": null,
   "metadata": {},
   "outputs": [],
   "source": []
  }
 ],
 "metadata": {
  "kernelspec": {
   "display_name": "Python 3",
   "language": "python",
   "name": "python3"
  },
  "language_info": {
   "codemirror_mode": {
    "name": "ipython",
    "version": 3
   },
   "file_extension": ".py",
   "mimetype": "text/x-python",
   "name": "python",
   "nbconvert_exporter": "python",
   "pygments_lexer": "ipython3",
   "version": "3.8.3"
  }
 },
 "nbformat": 4,
 "nbformat_minor": 4
}
