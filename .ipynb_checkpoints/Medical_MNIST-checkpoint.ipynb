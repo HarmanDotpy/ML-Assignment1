{
 "cells": [
  {
   "cell_type": "code",
   "execution_count": 1,
   "metadata": {},
   "outputs": [],
   "source": [
    "import numpy as np\n",
    "import matplotlib.pyplot as plt\n",
    "from PIL import Image\n",
    "import os\n",
    "from matplotlib.pyplot import imshow"
   ]
  },
  {
   "cell_type": "markdown",
   "metadata": {},
   "source": [
    "### Load Data"
   ]
  },
  {
   "cell_type": "code",
   "execution_count": 2,
   "metadata": {},
   "outputs": [],
   "source": [
    "numcat = 6 #number of categories\n",
    "categories = ['AbdomenCT', 'BreastMRI', 'ChestCT', 'CXR', 'Hand', 'HeadCT']"
   ]
  },
  {
   "cell_type": "code",
   "execution_count": 3,
   "metadata": {},
   "outputs": [],
   "source": [
    "# directory = r'./Medical_MNIST/'\n",
    "# train, test = [], []\n",
    "# for i in range(numcat):\n",
    "#     imagearray = []\n",
    "#     for image_raw in os.listdir(directory + categories[i]):\n",
    "#         image_np = (np.array(Image.open(os.path.join(directory + categories[i], image_raw))).flatten())\n",
    "#         image = np.append(image_np, i)\n",
    "#         imagearray.append(image.astype('uint8'))\n",
    "#     train += imagearray[0:int(0.8*len(imagearray))]\n",
    "#     test += imagearray[int(0.8*len(imagearray)):]\n",
    "# # data = np.array(imagearray)\n",
    "# train = np.array(train)\n",
    "# test = np.array(test)\n"
   ]
  },
  {
   "cell_type": "code",
   "execution_count": 4,
   "metadata": {},
   "outputs": [],
   "source": [
    "# #saving data for faster loading in future\n",
    "# np.save('Medical_train.npy', train)\n",
    "# np.save('Medical_test.npy', test)"
   ]
  },
  {
   "cell_type": "code",
   "execution_count": 5,
   "metadata": {},
   "outputs": [],
   "source": [
    "train = np.load('Medical_train.npy')\n",
    "test = np.load('Medical_test.npy')\n",
    "X_train, y_train = train[:, :-1], test[:, -1]\n",
    "X_test, y_test = test[:, :-1], test[:, -1]"
   ]
  },
  {
   "cell_type": "code",
   "execution_count": 6,
   "metadata": {},
   "outputs": [
    {
     "name": "stdout",
     "output_type": "stream",
     "text": [
      "(47163, 4096) (11791,) (11791, 4096) (11791,)\n"
     ]
    }
   ],
   "source": [
    "print(X_train.shape, y_train.shape, X_test.shape, y_test.shape)"
   ]
  },
  {
   "cell_type": "code",
   "execution_count": 7,
   "metadata": {},
   "outputs": [],
   "source": [
    "# def cross_valid_split(dataset, folds):\n",
    "#         dataset_split = []\n",
    "# #         df_copy = dataset\n",
    "#         fold_size = int(dataset.shape[0] // folds)\n",
    "        \n",
    "#         # for loop to save each fold\n",
    "#         for i in range(folds):\n",
    "#             fold = []\n",
    "#             # while loop to add elements to the folds\n",
    "#             while len(fold) < fold_size:\n",
    "#                 # select a random element\n",
    "#                 r = randrange(df_copy.shape[0])\n",
    "#                 # determine the index of this element \n",
    "#                 index = df_copy.index[r]\n",
    "#                 # save the randomly selected line \n",
    "#                 fold.append(df_copy.loc[index].values.tolist())\n",
    "#                 # delete the randomly selected line from\n",
    "#                 # dataframe not to select again\n",
    "#                 df_copy = df_copy.drop(index)\n",
    "#             # save the fold     \n",
    "#             dataset_split.append(np.asarray(fold))\n",
    "            \n",
    "#         return dataset_split"
   ]
  },
  {
   "cell_type": "code",
   "execution_count": 8,
   "metadata": {},
   "outputs": [],
   "source": [
    "# directory = r'./Medical_MNIST/'\n",
    "# image_np = np.array(Image.open(os.path.join(directory + 'AbdomenCT', '000000.jpeg')))\n",
    "# imshow(image_np/255, cmap = 'gray')\n",
    "# # img.show()"
   ]
  },
  {
   "cell_type": "markdown",
   "metadata": {},
   "source": [
    "### Data Visualization(PCA/tSNE)"
   ]
  },
  {
   "cell_type": "code",
   "execution_count": null,
   "metadata": {},
   "outputs": [],
   "source": []
  },
  {
   "cell_type": "code",
   "execution_count": null,
   "metadata": {},
   "outputs": [],
   "source": []
  },
  {
   "cell_type": "code",
   "execution_count": null,
   "metadata": {},
   "outputs": [],
   "source": []
  },
  {
   "cell_type": "code",
   "execution_count": null,
   "metadata": {},
   "outputs": [],
   "source": []
  },
  {
   "cell_type": "code",
   "execution_count": null,
   "metadata": {},
   "outputs": [],
   "source": []
  },
  {
   "cell_type": "markdown",
   "metadata": {},
   "source": [
    "### Some data analysis"
   ]
  },
  {
   "cell_type": "code",
   "execution_count": 9,
   "metadata": {},
   "outputs": [],
   "source": [
    "# df_h.plot.scatter(x = 'restbps', y = 'chol')\n",
    "# df_h.plot.scatter(x = 'restbps', y = 'age')\n",
    "# df_h.plot.scatter(x = 'age', y = 'chol')"
   ]
  },
  {
   "cell_type": "markdown",
   "metadata": {},
   "source": [
    "# Naive Bayes Classifier - with Gaussian or some other density functions as density estimates of individual features for a particular class"
   ]
  },
  {
   "cell_type": "markdown",
   "metadata": {},
   "source": [
    "### MLE"
   ]
  },
  {
   "cell_type": "code",
   "execution_count": 10,
   "metadata": {},
   "outputs": [],
   "source": [
    "def get_naive_params(X):\n",
    "    for i in range(numcat):\n",
    "        \n",
    "    mu = np.mean(X, axis = 0)\n",
    "    var = np.var(X, axis = 0)\n",
    "    return {'mu':mu, 'var':var}\n",
    "\n",
    "def performance_metrics(y_pred_test, y_test):\n",
    "    '''gives the TPR, FPR, acc, precision, recall and F1 score by comparing the 2 input arrays'''\n",
    "    #for precision, recall, class 1 will be positive class (ie the person ahs a health condition) \n",
    "    #and 0 as negative class (no health condition)\n",
    "    TP = np.logical_and(y_pred_test==y_test,y_pred_test == 1).sum()\n",
    "    FP = np.logical_and(y_pred_test!=y_test,y_pred_test == 1).sum()\n",
    "    TN = np.logical_and(y_pred_test==y_test,y_pred_test == 0).sum()\n",
    "    FN = np.logical_and(y_pred_test!=y_test,y_pred_test == 0).sum()\n",
    "    ACC = (TP+TN)/(TP+TN+FP+FN)\n",
    "    P = (TP)/(TP+FP)\n",
    "    R = (TP)/(TP+FN)\n",
    "    F1 = 2*P*R/(P+R)\n",
    "    TPR = R\n",
    "    FPR = FP/(FP+TN)\n",
    "    \n",
    "    return {'accuracy':ACC, 'precision':P, 'recall':R, 'F1':F1, 'TPR':TPR, 'FPR': FPR}\n",
    "\n",
    "def getpriors(y_train):\n",
    "#     priors = [X_train_0.shape[0]/(X_train_1.shape[0] + X_train_0.shape[0]), X_train_1.shape[0]/(X_train_1.shape[0] + X_train_0.shape[0])]\n",
    "    priors = [(y_train==i).sum()/y_train.shape[0] for i in range(6)]\n",
    "        \n",
    "    return priors\n",
    "\n",
    "def gaussian_univariate(x, mu, var):\n",
    "    \"\"\" to get the value of pdf having scalar params mu and var, @x \"\"\"\n",
    "    diff = (x - mu)\n",
    "    pdf_x = (1/(np.sqrt(2*np.pi)))* (1/np.sqrt(var)) * (np.exp(-0.5*(diff**2)/(var)))\n",
    "    return pdf_x.item()\n",
    "\n",
    "def naive_likelihood(x, mu_array, var_array):\n",
    "    '''mu_array, and var_array are d dimensional array where d is the size of x which is the number of features'''\n",
    "    likelihood = 1\n",
    "    for i in range(x.shape[0]):\n",
    "        likelihood = likelihood * gaussian_univariate(x[i], mu_array[i], var_array[i])\n",
    "    \n",
    "    return likelihood\n",
    "        \n",
    "def predict_naive(X_test, threshold, priors, naive_params0, naive_params1):\n",
    "    y_pred_test = np.zeros((X_test.shape[0], 1))\n",
    "#     print(thresh)\n",
    "    for i in range(X_test.shape[0]):\n",
    "        likelihood_0 = naive_likelihood(X_test[i], naive_params0['mu'], naive_params0['var'])\n",
    "        likelihood_1 = naive_likelihood(X_test[i], naive_params1['mu'], naive_params1['var'])\n",
    "        y_pred_test[i] = 1 if ((priors[1]/priors[0])*(likelihood_1/likelihood_0) > threshold) else 0\n",
    "    return y_pred_test\n",
    "\n",
    "def ROC_naive(X_test, y_test, priors, params_0, params_1):\n",
    "    FPR_list = []\n",
    "    TPR_list = []\n",
    "    for thresh in [2**i for i in range(-30, -2)]:\n",
    "        y_pred_test = predict_naive(X_test, thresh, priors, params_0, params_1)\n",
    "        performance = performance_metrics(y_pred_test, y_test)\n",
    "        FPR_list.append(performance['FPR'])\n",
    "        TPR_list.append(performance['TPR'])\n",
    "    \n",
    "    for thresh in np.arange(0.01, 5., 0.1):\n",
    "        y_pred_test = predict_naive(X_test, thresh, priors, params_0, params_1)\n",
    "        performance = performance_metrics(y_pred_test, y_test)\n",
    "        FPR_list.append(performance['FPR'])\n",
    "        TPR_list.append(performance['TPR'])\n",
    "        \n",
    "    for thresh in [2**i for i in range(4, 10)]:\n",
    "        y_pred_test = predict_naive(X_test, thresh, priors, params_0, params_1)\n",
    "        performance = performance_metrics(y_pred_test, y_test)\n",
    "        FPR_list.append(performance['FPR'])\n",
    "        TPR_list.append(performance['TPR'])\n",
    "        \n",
    "    plt.plot(FPR_list, TPR_list, label='ROC', linestyle = '-', marker = 'o', color = 'r')\n",
    "#     plt.plot()\n",
    "    plt.ylabel('TPR')\n",
    "    plt.xlabel('FPR')\n",
    "    plt.title('ROC curve for binary classification')\n",
    "    plt.legend()\n",
    "    plt.show()"
   ]
  },
  {
   "cell_type": "markdown",
   "metadata": {},
   "source": [
    "### Training"
   ]
  },
  {
   "cell_type": "code",
   "execution_count": 61,
   "metadata": {},
   "outputs": [],
   "source": [
    "priors_naive = getpriors(y_train)\n",
    "# print(np.array(priors_naive).sum())\n",
    "naive_params = get_naive_params(X_train)"
   ]
  },
  {
   "cell_type": "markdown",
   "metadata": {},
   "source": [
    "### Experimenting with different thresholds just to see what comes out"
   ]
  },
  {
   "cell_type": "code",
   "execution_count": 51,
   "metadata": {},
   "outputs": [
    {
     "name": "stdout",
     "output_type": "stream",
     "text": [
      "{'accuracy': 0.8151658767772512, 'precision': 0.6982758620689655, 'recall': 0.9529411764705882, 'F1': 0.8059701492537313, 'TPR': 0.9529411764705882, 'FPR': 0.2777777777777778}\n",
      "{'accuracy': 0.8199052132701422, 'precision': 0.7526881720430108, 'recall': 0.8235294117647058, 'F1': 0.7865168539325843, 'TPR': 0.8235294117647058, 'FPR': 0.18253968253968253}\n",
      "{'accuracy': 0.8767772511848341, 'precision': 0.927536231884058, 'recall': 0.7529411764705882, 'F1': 0.8311688311688311, 'TPR': 0.7529411764705882, 'FPR': 0.03968253968253968}\n"
     ]
    }
   ],
   "source": [
    "threshold = 0.1\n",
    "y_pred_naive = predict_naive(X_test, threshold, priors_naive, naive_params0, naive_params1)\n",
    "perf_metrics = performance_metrics(y_pred_naive, y_test)\n",
    "print(perf_metrics)\n",
    "\n",
    "threshold = 1\n",
    "y_pred_naive = predict_naive(X_test, threshold, priors_naive, naive_params0, naive_params1)\n",
    "perf_metrics = performance_metrics(y_pred_naive, y_test)\n",
    "print(perf_metrics)\n",
    "\n",
    "threshold = 20\n",
    "y_pred_naive = predict_naive(X_test, threshold, priors_naive, naive_params0, naive_params1)\n",
    "perf_metrics = performance_metrics(y_pred_naive, y_test)\n",
    "print(perf_metrics)\n",
    "### Plotting the ROC\n"
   ]
  },
  {
   "cell_type": "markdown",
   "metadata": {},
   "source": [
    "### Plotting the ROC"
   ]
  },
  {
   "cell_type": "code",
   "execution_count": 52,
   "metadata": {
    "scrolled": false
   },
   "outputs": [
    {
     "data": {
      "image/png": "[encoded data removed]",
      "text/plain": [
       "<Figure size 432x288 with 1 Axes>"
      ]
     },
     "metadata": {
      "needs_background": "light"
     },
     "output_type": "display_data"
    }
   ],
   "source": [
    "ROC_naive(X_test, y_test, priors_naive, naive_params0, naive_params1)"
   ]
  },
  {
   "cell_type": "code",
   "execution_count": null,
   "metadata": {},
   "outputs": [],
   "source": []
  },
  {
   "cell_type": "code",
   "execution_count": null,
   "metadata": {},
   "outputs": [],
   "source": []
  },
  {
   "cell_type": "code",
   "execution_count": null,
   "metadata": {},
   "outputs": [],
   "source": []
  },
  {
   "cell_type": "code",
   "execution_count": null,
   "metadata": {},
   "outputs": [],
   "source": []
  },
  {
   "cell_type": "markdown",
   "metadata": {},
   "source": [
    "### MAP"
   ]
  },
  {
   "cell_type": "code",
   "execution_count": null,
   "metadata": {},
   "outputs": [],
   "source": []
  },
  {
   "cell_type": "code",
   "execution_count": null,
   "metadata": {},
   "outputs": [],
   "source": []
  },
  {
   "cell_type": "code",
   "execution_count": null,
   "metadata": {},
   "outputs": [],
   "source": []
  },
  {
   "cell_type": "code",
   "execution_count": null,
   "metadata": {},
   "outputs": [],
   "source": []
  },
  {
   "cell_type": "code",
   "execution_count": null,
   "metadata": {},
   "outputs": [],
   "source": []
  }
 ],
 "metadata": {
  "kernelspec": {
   "display_name": "Python 3",
   "language": "python",
   "name": "python3"
  },
  "language_info": {
   "codemirror_mode": {
    "name": "ipython",
    "version": 3
   },
   "file_extension": ".py",
   "mimetype": "text/x-python",
   "name": "python",
   "nbconvert_exporter": "python",
   "pygments_lexer": "ipython3",
   "version": "3.7.6"
  }
 },
 "nbformat": 4,
 "nbformat_minor": 4
}
