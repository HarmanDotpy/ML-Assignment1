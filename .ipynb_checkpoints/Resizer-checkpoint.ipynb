{
 "cells": [
  {
   "cell_type": "code",
   "execution_count": 8,
   "metadata": {},
   "outputs": [],
   "source": [
    "import os\n",
    "from PIL import Image\n",
    "\n",
    "dir = r'Resized_MNIST'\n",
    "\n",
    "for root, dirs, files in os.walk(dir):\n",
    "    for name in files:\n",
    "        filepath = root + os.sep + name\n",
    "        if filepath.endswith(\".jpeg\"):\n",
    "            img = Image.open(filepath)\n",
    "            img = img.resize((32,32))\n",
    "            img.save(filepath)"
   ]
  }
 ],
 "metadata": {
  "kernelspec": {
   "display_name": "Python 3",
   "language": "python",
   "name": "python3"
  },
  "language_info": {
   "codemirror_mode": {
    "name": "ipython",
    "version": 3
   },
   "file_extension": ".py",
   "mimetype": "text/x-python",
   "name": "python",
   "nbconvert_exporter": "python",
   "pygments_lexer": "ipython3",
   "version": "3.8.3"
  }
 },
 "nbformat": 4,
 "nbformat_minor": 4
}
